{
 "cells": [
  {
   "cell_type": "markdown",
   "metadata": {},
   "source": [
    "# Deep analysis of Wikipedia clickstream data"
   ]
  },
  {
   "cell_type": "markdown",
   "metadata": {},
   "source": [
    "Wikipedia, a non-profit database for people to explore knowledge, has been widely used as a go-to reference website.To give you a sense of the scale of the data, the March 2016 release for English Wikipedia contained 25 million distinct “(referer, resource)” pairs from a total of 6.8 billion requests. This project is trying to answer questions that might be of business interests based on wikipedia clickstream data, and will also be a good reference for business analysis."
   ]
  },
  {
   "cell_type": "markdown",
   "metadata": {},
   "source": [
    "## 1. Data Source"
   ]
  },
  {
   "cell_type": "markdown",
   "metadata": {},
   "source": [
    "All the clickstream data are public available and could be downloaded from\n",
    "https://meta.wikimedia.org/wiki/Research:Wikipedia_clickstream\n",
    "\n",
    "The Wikipedia Clickstream dataset contains counts of (referer, resource) pairs extracted from the request logs of Wikipedia. A referer is an HTTP header field that identifies the address of the webpage that linked to the resource being requested. The data shows how people get to a Wikipedia article and what links they click on. In other words, it gives a weighted network of articles, where each edge weight corresponds to how often people navigate from one page to another. To give an example, consider the figure below, which shows incoming and outgoing traffic to the \"London\" article on English Wikipedia during January 2015.\n",
    "\n",
    "Herein, I adopted most recent 8 months data from Nov 2017 to Jun 2018 for this project. The goal of this project is:\n",
    "\n",
    "1. Build a topic recommendation system for a given topic\n",
    "\n",
    "2. Topic classification based on web traffic data\n",
    "\n",
    "3. Advertisement profits prediction based on web traffic data and NLP analysis (classification and regression)"
   ]
  },
  {
   "cell_type": "markdown",
   "metadata": {},
   "source": [
    "![Traffic of London](https://upload.wikimedia.org/wikipedia/commons/thumb/0/02/London_clickstream.png/440px-London_clickstream.png)"
   ]
  },
  {
   "cell_type": "markdown",
   "metadata": {},
   "source": [
    "## 2. Data Wrangling"
   ]
  },
  {
   "cell_type": "code",
   "execution_count": 1,
   "metadata": {
    "collapsed": false
   },
   "outputs": [],
   "source": [
    "# Import necessary packages to deal with plotting, dataframe and network analysis\n",
    "import pandas as pd\n",
    "import numpy as np\n",
    "import matplotlib.pyplot as plt\n",
    "import pickle\n",
    "import networkx as nx\n",
    "import random\n",
    "\n",
    "\n",
    "%matplotlib inline\n",
    "\n",
    "# Import beautifulsoup package, urllib and regex\n",
    "from bs4 import BeautifulSoup\n",
    "from urllib.request import urlopen\n",
    "import re"
   ]
  },
  {
   "cell_type": "raw",
   "metadata": {
    "collapsed": false
   },
   "source": [
    "# Load dataframe and save as pickle file\n",
    "df = pd.read_csv('https://dumps.wikimedia.org/other/clickstream/2017-11/clickstream-enwiki-2017-11.tsv.gz',\n",
    "                 sep='\\t',\n",
    "                 names=['prev','curr','type','n'],\n",
    "                 compression = 'gzip')\n",
    "\n",
    "# Save df to pickle file\n",
    "with open('pickle/2017_11/df.pickle','wb') as f:\n",
    "    pickle.dump(df, f)"
   ]
  },
  {
   "cell_type": "code",
   "execution_count": 2,
   "metadata": {
    "collapsed": false
   },
   "outputs": [],
   "source": [
    "# Load df\n",
    "with open('pickle/2017_11/df.pickle','rb') as f:\n",
    "    df = pickle.load(f)"
   ]
  },
  {
   "cell_type": "markdown",
   "metadata": {},
   "source": [
    "#### The dataframe includes four columns: prev, curr, type and n. There are total 26 million records, with only 47 NA values. \n",
    "\n",
    "#### Prev\n",
    "Sources leading to wiki topics/pages. In addition to wiki topics, other sources include 1. other-empty: direct enter through http; 2. other-search: link through search engine; 3. other external: link through other website; 4. other-internal: through non english wikipedia database; 5. other-other: Unknown source. NA means the sources have been removed or updated to a new one\n",
    "\n",
    "#### Curr\n",
    "Visited Wiki pages/topics. NA means the topics being updated or removed\n",
    "\n",
    "#### Type\n",
    "Three classes including external, other and link. External means sources are from external, other means both the source and curr are wiki topics, but there is no direct link between them. Link means both source and curr are wiki topics and there is direct link between them.\n",
    "\n",
    "#### n\n",
    "Number of clicks"
   ]
  },
  {
   "cell_type": "code",
   "execution_count": 3,
   "metadata": {
    "collapsed": false
   },
   "outputs": [
    {
     "data": {
      "text/html": [
       "<div>\n",
       "<table border=\"1\" class=\"dataframe\">\n",
       "  <thead>\n",
       "    <tr style=\"text-align: right;\">\n",
       "      <th></th>\n",
       "      <th>prev</th>\n",
       "      <th>curr</th>\n",
       "      <th>type</th>\n",
       "      <th>n</th>\n",
       "    </tr>\n",
       "  </thead>\n",
       "  <tbody>\n",
       "    <tr>\n",
       "      <th>0</th>\n",
       "      <td>other-empty</td>\n",
       "      <td>Holly_Hull</td>\n",
       "      <td>external</td>\n",
       "      <td>43</td>\n",
       "    </tr>\n",
       "    <tr>\n",
       "      <th>1</th>\n",
       "      <td>other-search</td>\n",
       "      <td>Holly_Hull</td>\n",
       "      <td>external</td>\n",
       "      <td>18</td>\n",
       "    </tr>\n",
       "    <tr>\n",
       "      <th>2</th>\n",
       "      <td>other-empty</td>\n",
       "      <td>Boy_Slaves</td>\n",
       "      <td>external</td>\n",
       "      <td>57</td>\n",
       "    </tr>\n",
       "    <tr>\n",
       "      <th>3</th>\n",
       "      <td>Peon</td>\n",
       "      <td>Boy_Slaves</td>\n",
       "      <td>link</td>\n",
       "      <td>12</td>\n",
       "    </tr>\n",
       "    <tr>\n",
       "      <th>4</th>\n",
       "      <td>List_of_films_featuring_slavery</td>\n",
       "      <td>Boy_Slaves</td>\n",
       "      <td>link</td>\n",
       "      <td>27</td>\n",
       "    </tr>\n",
       "  </tbody>\n",
       "</table>\n",
       "</div>"
      ],
      "text/plain": [
       "                              prev        curr      type   n\n",
       "0                      other-empty  Holly_Hull  external  43\n",
       "1                     other-search  Holly_Hull  external  18\n",
       "2                      other-empty  Boy_Slaves  external  57\n",
       "3                             Peon  Boy_Slaves      link  12\n",
       "4  List_of_films_featuring_slavery  Boy_Slaves      link  27"
      ]
     },
     "execution_count": 3,
     "metadata": {},
     "output_type": "execute_result"
    }
   ],
   "source": [
    "df.head()"
   ]
  },
  {
   "cell_type": "code",
   "execution_count": 4,
   "metadata": {
    "collapsed": false
   },
   "outputs": [
    {
     "data": {
      "text/plain": [
       "array(['other-empty', 'other-search', 'other-external', 'other-internal',\n",
       "       'other-other'], dtype=object)"
      ]
     },
     "execution_count": 4,
     "metadata": {},
     "output_type": "execute_result"
    }
   ],
   "source": [
    "# Unique exteral sources\n",
    "df.prev[df.prev.apply(lambda x: str(x).startswith('other'))].unique()"
   ]
  },
  {
   "cell_type": "code",
   "execution_count": 5,
   "metadata": {
    "collapsed": false
   },
   "outputs": [
    {
     "data": {
      "text/plain": [
       "(25982519, 4)"
      ]
     },
     "execution_count": 5,
     "metadata": {},
     "output_type": "execute_result"
    }
   ],
   "source": [
    "df.shape"
   ]
  },
  {
   "cell_type": "code",
   "execution_count": 6,
   "metadata": {
    "collapsed": false
   },
   "outputs": [
    {
     "data": {
      "text/plain": [
       "link        15649105\n",
       "external     9560564\n",
       "other         772850\n",
       "Name: type, dtype: int64"
      ]
     },
     "execution_count": 6,
     "metadata": {},
     "output_type": "execute_result"
    }
   ],
   "source": [
    "df.type.value_counts()"
   ]
  },
  {
   "cell_type": "code",
   "execution_count": 7,
   "metadata": {
    "collapsed": false
   },
   "outputs": [
    {
     "data": {
      "text/plain": [
       "prev    22\n",
       "curr    25\n",
       "type     0\n",
       "n        0\n",
       "dtype: int64"
      ]
     },
     "execution_count": 7,
     "metadata": {},
     "output_type": "execute_result"
    }
   ],
   "source": [
    "df.isnull().sum()"
   ]
  },
  {
   "cell_type": "markdown",
   "metadata": {},
   "source": [
    "## 3. Exploratory Data Analysis"
   ]
  },
  {
   "cell_type": "markdown",
   "metadata": {
    "collapsed": true
   },
   "source": [
    "### 3.1 Global’s hot topics in Nov 2017"
   ]
  },
  {
   "cell_type": "markdown",
   "metadata": {
    "collapsed": true
   },
   "source": [
    "##### 3.1.1 The most viewed article in the month\n",
    "\n",
    "People are interested in knowing about celebrities, and hot movies on Nov. The reason why Meghan_Markle climbs to the top is due to the engagement of Prince Harry and Meghan Markle on Nov 27, and the first episode of “Stranger Things” was watched by 15.8 million people within the first three days from Oct 27 and thus arouse people's interests throughout November. In addition, the distribution of the number of clicks is heavily right skewed, and almost 50% of articles are viewed less than 100 times, we will use this as the cut off"
   ]
  },
  {
   "cell_type": "code",
   "execution_count": 8,
   "metadata": {
    "collapsed": false,
    "scrolled": true
   },
   "outputs": [
    {
     "data": {
      "text/html": [
       "<div>\n",
       "<table border=\"1\" class=\"dataframe\">\n",
       "  <thead>\n",
       "    <tr style=\"text-align: right;\">\n",
       "      <th></th>\n",
       "      <th>n</th>\n",
       "    </tr>\n",
       "    <tr>\n",
       "      <th>curr</th>\n",
       "      <th></th>\n",
       "    </tr>\n",
       "  </thead>\n",
       "  <tbody>\n",
       "    <tr>\n",
       "      <th>Main_Page</th>\n",
       "      <td>505262821</td>\n",
       "    </tr>\n",
       "    <tr>\n",
       "      <th>Hyphen-minus</th>\n",
       "      <td>39017884</td>\n",
       "    </tr>\n",
       "    <tr>\n",
       "      <th>XHamster</th>\n",
       "      <td>9537393</td>\n",
       "    </tr>\n",
       "    <tr>\n",
       "      <th>Meghan_Markle</th>\n",
       "      <td>8289694</td>\n",
       "    </tr>\n",
       "    <tr>\n",
       "      <th>Justice_League_(film)</th>\n",
       "      <td>5480246</td>\n",
       "    </tr>\n",
       "    <tr>\n",
       "      <th>Stranger_Things</th>\n",
       "      <td>5231810</td>\n",
       "    </tr>\n",
       "    <tr>\n",
       "      <th>Charles_Manson</th>\n",
       "      <td>4553276</td>\n",
       "    </tr>\n",
       "    <tr>\n",
       "      <th>Thor:_Ragnarok</th>\n",
       "      <td>3725272</td>\n",
       "    </tr>\n",
       "    <tr>\n",
       "      <th>Deaths_in_2017</th>\n",
       "      <td>3299351</td>\n",
       "    </tr>\n",
       "    <tr>\n",
       "      <th>Lil_Peep</th>\n",
       "      <td>2910143</td>\n",
       "    </tr>\n",
       "  </tbody>\n",
       "</table>\n",
       "</div>"
      ],
      "text/plain": [
       "                               n\n",
       "curr                            \n",
       "Main_Page              505262821\n",
       "Hyphen-minus            39017884\n",
       "XHamster                 9537393\n",
       "Meghan_Markle            8289694\n",
       "Justice_League_(film)    5480246\n",
       "Stranger_Things          5231810\n",
       "Charles_Manson           4553276\n",
       "Thor:_Ragnarok           3725272\n",
       "Deaths_in_2017           3299351\n",
       "Lil_Peep                 2910143"
      ]
     },
     "execution_count": 8,
     "metadata": {},
     "output_type": "execute_result"
    }
   ],
   "source": [
    "# Aggregate the clicks according to topics\n",
    "article_link_in = df.groupby('curr').sum()\n",
    "\n",
    "# Sort n of clicks by descending\n",
    "article_link_in.sort_values(by='n', ascending=False).head(10)"
   ]
  },
  {
   "cell_type": "code",
   "execution_count": 9,
   "metadata": {
    "collapsed": false
   },
   "outputs": [
    {
     "data": {
      "text/html": [
       "<div>\n",
       "<table border=\"1\" class=\"dataframe\">\n",
       "  <thead>\n",
       "    <tr style=\"text-align: right;\">\n",
       "      <th></th>\n",
       "      <th>n</th>\n",
       "    </tr>\n",
       "  </thead>\n",
       "  <tbody>\n",
       "    <tr>\n",
       "      <th>count</th>\n",
       "      <td>4.414255e+06</td>\n",
       "    </tr>\n",
       "    <tr>\n",
       "      <th>mean</th>\n",
       "      <td>1.536471e+03</td>\n",
       "    </tr>\n",
       "    <tr>\n",
       "      <th>std</th>\n",
       "      <td>2.415679e+05</td>\n",
       "    </tr>\n",
       "    <tr>\n",
       "      <th>min</th>\n",
       "      <td>1.000000e+01</td>\n",
       "    </tr>\n",
       "    <tr>\n",
       "      <th>25%</th>\n",
       "      <td>3.400000e+01</td>\n",
       "    </tr>\n",
       "    <tr>\n",
       "      <th>50%</th>\n",
       "      <td>1.080000e+02</td>\n",
       "    </tr>\n",
       "    <tr>\n",
       "      <th>75%</th>\n",
       "      <td>4.510000e+02</td>\n",
       "    </tr>\n",
       "    <tr>\n",
       "      <th>max</th>\n",
       "      <td>5.052628e+08</td>\n",
       "    </tr>\n",
       "  </tbody>\n",
       "</table>\n",
       "</div>"
      ],
      "text/plain": [
       "                  n\n",
       "count  4.414255e+06\n",
       "mean   1.536471e+03\n",
       "std    2.415679e+05\n",
       "min    1.000000e+01\n",
       "25%    3.400000e+01\n",
       "50%    1.080000e+02\n",
       "75%    4.510000e+02\n",
       "max    5.052628e+08"
      ]
     },
     "execution_count": 9,
     "metadata": {},
     "output_type": "execute_result"
    }
   ],
   "source": [
    "# Statistical distribution of article views.\n",
    "# Notice the mean is 1530, while the median is 108. The data is heavily right skewed\n",
    "article_link_in.describe()"
   ]
  },
  {
   "cell_type": "raw",
   "metadata": {
    "collapsed": false
   },
   "source": [
    "# Convert article_link_in to dictionary and save as pickle file for further use\n",
    "\n",
    "article_link_in = dict(zip(article_link_in.index, article_link_in.n.values))\n",
    "\n",
    "with open('pickle/2017_11/article_link_in.pickle', 'wb') as f:\n",
    "    pickle.dump(article_link_in, f)"
   ]
  },
  {
   "cell_type": "code",
   "execution_count": 10,
   "metadata": {
    "collapsed": false
   },
   "outputs": [],
   "source": [
    "# Read article_link_in.pickle as a dictionary\n",
    "with open('pickle/2017_11/article_link_in.pickle', 'rb') as f:\n",
    "    article_link_in = pickle.load(f)"
   ]
  },
  {
   "cell_type": "markdown",
   "metadata": {},
   "source": [
    "##### 3.1.2 The most cited sources in the month\n",
    "The top referred sources are other sources insead of internal links, mainly from search engines and enter through http. For the internal links, the highest cited articles are hot movies such as stranger things, justice league and summary of events, such as deaths in 2017."
   ]
  },
  {
   "cell_type": "code",
   "execution_count": 11,
   "metadata": {
    "collapsed": false
   },
   "outputs": [
    {
     "data": {
      "text/html": [
       "<div>\n",
       "<table border=\"1\" class=\"dataframe\">\n",
       "  <thead>\n",
       "    <tr style=\"text-align: right;\">\n",
       "      <th></th>\n",
       "      <th>n</th>\n",
       "    </tr>\n",
       "    <tr>\n",
       "      <th>prev</th>\n",
       "      <th></th>\n",
       "    </tr>\n",
       "  </thead>\n",
       "  <tbody>\n",
       "    <tr>\n",
       "      <th>other-search</th>\n",
       "      <td>2978059866</td>\n",
       "    </tr>\n",
       "    <tr>\n",
       "      <th>other-empty</th>\n",
       "      <td>2291181777</td>\n",
       "    </tr>\n",
       "    <tr>\n",
       "      <th>other-external</th>\n",
       "      <td>132415436</td>\n",
       "    </tr>\n",
       "    <tr>\n",
       "      <th>other-internal</th>\n",
       "      <td>116059001</td>\n",
       "    </tr>\n",
       "    <tr>\n",
       "      <th>Main_Page</th>\n",
       "      <td>29716738</td>\n",
       "    </tr>\n",
       "    <tr>\n",
       "      <th>Stranger_Things</th>\n",
       "      <td>2815939</td>\n",
       "    </tr>\n",
       "    <tr>\n",
       "      <th>Justice_League_(film)</th>\n",
       "      <td>2230895</td>\n",
       "    </tr>\n",
       "    <tr>\n",
       "      <th>Thor:_Ragnarok</th>\n",
       "      <td>1887976</td>\n",
       "    </tr>\n",
       "    <tr>\n",
       "      <th>Deaths_in_2017</th>\n",
       "      <td>1664140</td>\n",
       "    </tr>\n",
       "    <tr>\n",
       "      <th>Muscat_and_Oman</th>\n",
       "      <td>1226358</td>\n",
       "    </tr>\n",
       "  </tbody>\n",
       "</table>\n",
       "</div>"
      ],
      "text/plain": [
       "                                n\n",
       "prev                             \n",
       "other-search           2978059866\n",
       "other-empty            2291181777\n",
       "other-external          132415436\n",
       "other-internal          116059001\n",
       "Main_Page                29716738\n",
       "Stranger_Things           2815939\n",
       "Justice_League_(film)     2230895\n",
       "Thor:_Ragnarok            1887976\n",
       "Deaths_in_2017            1664140\n",
       "Muscat_and_Oman           1226358"
      ]
     },
     "execution_count": 11,
     "metadata": {},
     "output_type": "execute_result"
    }
   ],
   "source": [
    "# The top refer sources are from search engine, empty string, external and internal. \n",
    "article_link_out = df.groupby('prev').sum()\n",
    "article_link_out.sort_values(by='n', ascending=False).head(10)"
   ]
  },
  {
   "cell_type": "raw",
   "metadata": {
    "collapsed": false
   },
   "source": [
    "# To evaluate the refer through article link, we will remove the refer sources starting with 'other'\n",
    "\n",
    "article_link_out = article_link_out.drop(['other-empty', 'other-search', 'other-external', 'other-internal', 'other-other'])\n",
    "\n",
    "# Convert article_link_out and save to pickle file\n",
    "article_link_out = dict(zip(article_link_out.index, article_link_out.n.values))\n",
    "\n",
    "with open('pickle/2017_11/article_link_out.pickle', 'wb') as f:\n",
    "    pickle.dump(article_link_out, f)\n"
   ]
  },
  {
   "cell_type": "code",
   "execution_count": 12,
   "metadata": {
    "collapsed": true
   },
   "outputs": [],
   "source": [
    "# Read article_link_out.pickle as a dictionary\n",
    "with open('pickle/2017_11/article_link_out.pickle', 'rb') as f:\n",
    "    article_link_out = pickle.load(f)"
   ]
  },
  {
   "cell_type": "markdown",
   "metadata": {},
   "source": [
    "### 3.2 Relations between hot topics\n",
    "In order to analysis the relations, we need to establish the network. The purpose of the network analysis is to find the relations between different hot topics. To simiplify the problem, we built an undirected network (e.g., once two topics are linked and linked more than 100 times, they has relations), and we built edges based on direct linked articles. "
   ]
  },
  {
   "cell_type": "raw",
   "metadata": {
    "collapsed": false
   },
   "source": [
    "# We select links that higher than 100 clicks and drop NAs\n",
    "\n",
    "df_link = df[df.type=='link']\n",
    "df_link = df_link[df_link.n>100]\n",
    "df_link = df_link.dropna()\n",
    "\n",
    "with open('pickle/2017_11/df_link.pickle','wb') as f:\n",
    "    pickle.dump(df_link, f)'''"
   ]
  },
  {
   "cell_type": "code",
   "execution_count": 13,
   "metadata": {
    "collapsed": true
   },
   "outputs": [],
   "source": [
    "with open('pickle/2017_11/df_link.pickle','rb') as f:\n",
    "    df_link = pickle.load(f)"
   ]
  },
  {
   "cell_type": "raw",
   "metadata": {
    "collapsed": false,
    "scrolled": true
   },
   "source": [
    "# Build the network using networkx package\n",
    "\n",
    "import networkx as nx\n",
    "clickstream = nx.Graph()\n",
    "\n",
    "# Add nodes\n",
    "clickstream.add_nodes_from(df_link.prev)\n",
    "clickstream.add_nodes_from(df_link.curr)\n",
    "\n",
    "# Add edges\n",
    "clickstream.add_edges_from(zip(df_link.prev, df_link.curr))\n",
    "\n",
    "# Write clickstream into pickle file\n",
    "with open('pickle/2017_11/clickstream.pickle','wb') as f:\n",
    "    pickle.dump(clickstream, f)"
   ]
  },
  {
   "cell_type": "code",
   "execution_count": 14,
   "metadata": {
    "collapsed": true
   },
   "outputs": [],
   "source": [
    "# Load pickle file\n",
    "import networkx as nx\n",
    "\n",
    "with open('pickle/2017_11/clickstream.pickle','rb') as f:\n",
    "    clickstream = pickle.load(f)"
   ]
  },
  {
   "cell_type": "markdown",
   "metadata": {},
   "source": [
    "##### 3.2.1 Visualization of connections between different topics\n",
    "There is a more intuitive visuallization of the network using nxviz. It showed that hot topics are closely related. For example, hot topics such as Deaths_in_2017 connected Lil_Peep, David_Cassidy and Charles_Manson. And with more and more nodes added in, more connections will be revealed."
   ]
  },
  {
   "cell_type": "code",
   "execution_count": 15,
   "metadata": {
    "collapsed": true
   },
   "outputs": [],
   "source": [
    "df_article_link_in = df.groupby('curr').sum().sort_values(by='n', ascending=False)\n",
    "\n",
    "# Define methods to show top num of hot topics\n",
    "def hot_topics(num):\n",
    "    return df_article_link_in.iloc[:num,:]"
   ]
  },
  {
   "cell_type": "code",
   "execution_count": 16,
   "metadata": {
    "collapsed": false
   },
   "outputs": [
    {
     "name": "stdout",
     "output_type": "stream",
     "text": [
      "Main_Page,Deaths_in_2017 has relations\n",
      "Justice_League_(film),Thor:_Ragnarok has relations\n",
      "Charles_Manson,Deaths_in_2017 has relations\n",
      "Deaths_in_2017,Lil_Peep has relations\n"
     ]
    }
   ],
   "source": [
    "# Find relations between top 10 topics\n",
    "from itertools import combinations, permutations, chain\n",
    "\n",
    "for i,j in combinations(hot_topics(10).index,2):\n",
    "    if clickstream.has_edge(i,j):\n",
    "        print('{},{} has relations'.format(i,j))"
   ]
  },
  {
   "cell_type": "markdown",
   "metadata": {},
   "source": [
    "Top 10 hot topics"
   ]
  },
  {
   "cell_type": "code",
   "execution_count": 17,
   "metadata": {
    "collapsed": false,
    "scrolled": true
   },
   "outputs": [
    {
     "data": {
      "image/png": "[encoded data removed]",
      "text/plain": [
       "<matplotlib.figure.Figure at 0x191e35312e8>"
      ]
     },
     "metadata": {},
     "output_type": "display_data"
    }
   ],
   "source": [
    "from nxviz import CircosPlot\n",
    "\n",
    "def plot_circos(num):\n",
    "    \"\"\"Circos plot for top num of hot topics\"\"\"\n",
    "    c = CircosPlot(clickstream.subgraph(hot_topics(num).index), node_labels = True, node_label_layout = 'numbers')\n",
    "    c.node_colors = [\"skyblue\" for node_color in c.node_colors]\n",
    "    # the rotated labels take up more space, so we will have to increase the\n",
    "    # padding a bit. 15% on all sides works well here.\n",
    "    plt.tight_layout(rect=(0.15, 0.15, 0.85, 0.85))\n",
    "    c.draw()\n",
    "\n",
    "plot_circos(10)"
   ]
  },
  {
   "cell_type": "markdown",
   "metadata": {},
   "source": [
    "Top 20 hot topics\n",
    "\n",
    "We see more connections are established. Megan markle is connected with Prince Harry and Matt Lauer. Stranger things are connected with Millie Bobby Brown."
   ]
  },
  {
   "cell_type": "code",
   "execution_count": 18,
   "metadata": {
    "collapsed": false
   },
   "outputs": [
    {
     "data": {
      "image/png": "[encoded data removed]",
      "text/plain": [
       "<matplotlib.figure.Figure at 0x191e3526b00>"
      ]
     },
     "metadata": {},
     "output_type": "display_data"
    }
   ],
   "source": [
    "plot_circos(20)"
   ]
  },
  {
   "cell_type": "markdown",
   "metadata": {},
   "source": [
    "#### How to find connection between topics that are not directly connected?\n",
    "\n",
    "- Use network analysis, we can find the shortest path between Kevin Spacey and Meghan Markle. It seems like they both feature in Horrible Bosses, and their movies/showes are rated by IMDb"
   ]
  },
  {
   "cell_type": "code",
   "execution_count": 19,
   "metadata": {
    "collapsed": false,
    "scrolled": true
   },
   "outputs": [
    {
     "data": {
      "text/plain": [
       "[['Kevin_Spacey', 'Horrible_Bosses', 'Meghan_Markle'],\n",
       " ['Kevin_Spacey', 'IMDb', 'Meghan_Markle']]"
      ]
     },
     "execution_count": 19,
     "metadata": {},
     "output_type": "execute_result"
    }
   ],
   "source": [
    "# Return the shorted path between Kevin Sparcey and Meghan Markle. \n",
    "# Cutoff 2 is chosen because the shortest path between these two topics is 2\n",
    "\n",
    "list(nx.all_simple_paths(clickstream,'Kevin_Spacey','Meghan_Markle',cutoff = 2))"
   ]
  },
  {
   "cell_type": "code",
   "execution_count": null,
   "metadata": {
    "collapsed": true
   },
   "outputs": [],
   "source": []
  },
  {
   "cell_type": "markdown",
   "metadata": {},
   "source": [
    "### 3.3 Topics with high degree centrality and betweeness centrality\n",
    "$DegreeCentrality = \\frac{Number of Neighbors}{Number of Possible Neighbors}$\n",
    "\n",
    "$Betweenness Centrality =\\frac{Number of Shortest Paths through Node}{Number of Possible Neighbors}$"
   ]
  },
  {
   "cell_type": "markdown",
   "metadata": {},
   "source": [
    "##### 3.3.1 Top 10 topics in degree centrality\n",
    "It seems like the topics that has the most connections are United States, which directly connects 1,897 nodes with 537,227 clicks and 283 clicks/link. 99% of articles has neigbhors less than 44. So United States node having 1897 connections are very significant large number.\n",
    "\n",
    "However, if we want to know which articles are more influential, e.g. more clicks than other articles, we can tell stranger_things, which directly connects with 213 nodes, lead the board with 13,109 clicks per link and totally 2,792,254 clicks."
   ]
  },
  {
   "cell_type": "raw",
   "metadata": {
    "collapsed": false
   },
   "source": [
    "degree = nx.degree(clickstream)\n",
    "with open('pickle/2017_11/degree.pickle','wb') as f:\n",
    "    pickle.dump(degree, f)"
   ]
  },
  {
   "cell_type": "code",
   "execution_count": 20,
   "metadata": {
    "collapsed": false
   },
   "outputs": [
    {
     "data": {
      "text/plain": [
       "[('United_States', 1897),\n",
       " ('World_War_II', 926),\n",
       " ('Deaths_in_2017', 797),\n",
       " ('English_language', 796),\n",
       " ('Linux', 697),\n",
       " ('Microsoft_Windows', 625),\n",
       " ('List_of_people_who_disappeared_mysteriously', 602),\n",
       " ('Wikipedia', 601),\n",
       " ('C++', 584),\n",
       " ('Operating_system', 574)]"
      ]
     },
     "execution_count": 20,
     "metadata": {},
     "output_type": "execute_result"
    }
   ],
   "source": [
    "with open('pickle/2017_11/degree.pickle','rb') as f:\n",
    "    degree = pickle.load(f)\n",
    "\n",
    "# Select nodes with top 10 neighbors\n",
    "sorted(degree.items(), key = lambda x: x[1])[::-1][:10]"
   ]
  },
  {
   "cell_type": "code",
   "execution_count": 21,
   "metadata": {
    "collapsed": false
   },
   "outputs": [
    {
     "data": {
      "text/plain": [
       "array([  1.,  44.])"
      ]
     },
     "execution_count": 21,
     "metadata": {},
     "output_type": "execute_result"
    }
   ],
   "source": [
    "degree_value = np.array(list(degree.values()))\n",
    "\n",
    "np.percentile(degree_value,[10,99])"
   ]
  },
  {
   "cell_type": "raw",
   "metadata": {
    "collapsed": false
   },
   "source": [
    "# Calculate the total clicks per topic\n",
    "influence_link = dict(df_link.groupby(by = 'prev').n.sum())\n",
    "\n",
    "with open('pickle/2017_11/influence_link.pickle','wb') as f:\n",
    "    pickle.dump(influence_link, f)\n",
    "\n",
    "\n",
    "influence_other = dict(df[df.type=='other'].groupby(by = 'prev').n.sum())\n",
    "\n",
    "with open('pickle/2017_11/influence_other.pickle','wb') as f:\n",
    "    pickle.dump(influence_other, f)\n"
   ]
  },
  {
   "cell_type": "code",
   "execution_count": 22,
   "metadata": {
    "collapsed": true
   },
   "outputs": [],
   "source": [
    "with open('pickle/2017_11/influence_link.pickle','rb') as f:\n",
    "    influence_link = pickle.load(f)\n",
    "\n",
    "with open('pickle/2017_11/influence_other.pickle','rb') as f:\n",
    "    influence_other = pickle.load(f)"
   ]
  },
  {
   "cell_type": "code",
   "execution_count": 23,
   "metadata": {
    "collapsed": false
   },
   "outputs": [
    {
     "name": "stdout",
     "output_type": "stream",
     "text": [
      "United States has 1897 neigbhors, with total 537227 numbers of clicks.\n",
      "Stranger Things has 213 neighbors, with total 2792254 numbers of clicks.\n"
     ]
    }
   ],
   "source": [
    "# Number of clicks for 'United States' and 'Stranger things'\n",
    "print('United States has {} neigbhors, with total {} numbers of clicks.'.format(degree.get('United_States'), \n",
    "                                                                                influence_link.get('United_States')))\n",
    "print('Stranger Things has {} neighbors, with total {} numbers of clicks.'.format(degree.get('Stranger_Things'), \n",
    "                                                                                 influence_link.get('Stranger_Things')))"
   ]
  },
  {
   "cell_type": "markdown",
   "metadata": {},
   "source": [
    "##### 3.3.2 Top 10 Topics in betweenness centrality\n",
    "The topic with highest betweenness centrality is 'United States'"
   ]
  },
  {
   "cell_type": "raw",
   "metadata": {
    "collapsed": false
   },
   "source": [
    "\n",
    "# Herein, we select the first 5000 most influential topics\n",
    "clickstream_subgroup = clickstream.subgraph(df_link.groupby(by = 'prev').n.sum().sort_values(ascending=False)[:5000].index)\n",
    "\n",
    "betweenness_centrality = nx.betweenness_centrality(clickstream_subgroup)\n",
    "\n",
    "with open('pickle/2017_11/betweenness.pickle', 'wb') as f:\n",
    "    pickle.dump(betweenness_centrality, f)\n"
   ]
  },
  {
   "cell_type": "code",
   "execution_count": 24,
   "metadata": {
    "collapsed": true
   },
   "outputs": [],
   "source": [
    "with open('pickle/2017_11/betweenness.pickle', 'rb') as f:\n",
    "    betweenness = pickle.load(f)"
   ]
  },
  {
   "cell_type": "code",
   "execution_count": 25,
   "metadata": {
    "collapsed": false
   },
   "outputs": [
    {
     "data": {
      "text/plain": [
       "[('United_States', 0.14563736750407139),\n",
       " ('2017_in_film', 0.07023631312825669),\n",
       " ('United_Kingdom', 0.02631950996951287),\n",
       " ('India', 0.02599113035072937),\n",
       " ('Donald_Trump', 0.022153736214173967),\n",
       " ('List_of_highest-grossing_films', 0.02095359260921725),\n",
       " ('Deaths_in_2017', 0.020948183097671803),\n",
       " ('World_War_II', 0.018945905822983604),\n",
       " ('List_of_best-selling_music_artists', 0.017011972668295818),\n",
       " ('Netflix', 0.01695179517020445)]"
      ]
     },
     "execution_count": 25,
     "metadata": {},
     "output_type": "execute_result"
    }
   ],
   "source": [
    "sorted(betweenness.items(), key = lambda x: x[1], reverse=True)[:10]"
   ]
  },
  {
   "cell_type": "markdown",
   "metadata": {},
   "source": [
    "### 3.4 Topics that has most similar topics\n",
    "It is interesting to notice that the top tiers are countries and the second tiers are football teams."
   ]
  },
  {
   "cell_type": "raw",
   "metadata": {
    "collapsed": false
   },
   "source": [
    "size_maximal_clique = {}\n",
    "for i in clickstream.nodes():\n",
    "    size_maximal_clique[i] = nx.node_clique_number(clickstream, i)\n",
    "\n",
    "with open('pickle/2017_11/size_maximal_clique.pickle','wb') as f:\n",
    "    pickle.dump(size_maximal_clique, f)"
   ]
  },
  {
   "cell_type": "code",
   "execution_count": 26,
   "metadata": {
    "collapsed": true
   },
   "outputs": [],
   "source": [
    "with open('pickle/2017_11/size_maximal_clique.pickle','rb') as f:\n",
    "    size_maximal_clique = pickle.load(f)"
   ]
  },
  {
   "cell_type": "code",
   "execution_count": 27,
   "metadata": {
    "collapsed": false
   },
   "outputs": [
    {
     "data": {
      "text/plain": [
       "[('Russia', 15),\n",
       " ('United_States', 15),\n",
       " ('Germany', 15),\n",
       " ('United_Kingdom', 15),\n",
       " ('Japan', 15),\n",
       " ('Australia', 15),\n",
       " ('China', 15),\n",
       " ('France', 15),\n",
       " ('India', 15),\n",
       " ('List_of_countries_by_GDP_(nominal)_per_capita', 15),\n",
       " ('Canada', 15),\n",
       " ('List_of_countries_by_GDP_(nominal)', 15),\n",
       " ('List_of_countries_by_GDP_(PPP)_per_capita', 15),\n",
       " ('Gross_domestic_product', 15),\n",
       " ('List_of_countries_by_GDP_(PPP)', 15),\n",
       " ('Purchasing_power_parity', 15),\n",
       " ('Italy_national_football_team', 14),\n",
       " ('2006_FIFA_World_Cup', 14),\n",
       " ('Argentina_national_football_team', 14),\n",
       " ('Brazil_national_football_team', 14)]"
      ]
     },
     "execution_count": 27,
     "metadata": {},
     "output_type": "execute_result"
    }
   ],
   "source": [
    "sorted(size_maximal_clique.items(), key = lambda x:x[1], reverse=True)[:20]"
   ]
  },
  {
   "cell_type": "markdown",
   "metadata": {},
   "source": [
    "### 3.5 Topics Recommendation based on user’s specific interests\n",
    "Maximum clique of specific topic will reveal other topics that are closely related with this topic, and thus could be used for recommendation systems. We will answer questions such as: are there any other topics that might also interest you? The recommendation results will show links with highest clicks"
   ]
  },
  {
   "cell_type": "code",
   "execution_count": 28,
   "metadata": {
    "collapsed": true
   },
   "outputs": [],
   "source": [
    "def number_of_clicks(df_link, neighbor_list, topic):\n",
    "    \"\"\"Calculate the number of clicks between certain topic and topics in cluster\"\"\"\n",
    "    \n",
    "    count = 0\n",
    "\n",
    "    df_link_topic = df_link[np.logical_or(df_link.prev==topic,df_link.curr==topic)]\n",
    "    \n",
    "    # Build a dictionary storing key as related topics and values as number of links\n",
    "    h = {}\n",
    "    for i in neighbor_list:\n",
    "        # Count two conditions, either i in prev, topic in curr or topic in prev, i in curr\n",
    "        count += df_link_topic[(df_link_topic.prev==i) & (df_link_topic.curr==topic)].n.sum()\n",
    "        count += df_link_topic[(df_link_topic.prev==topic) & (df_link_topic.curr==i)].n.sum()\n",
    "        h[i] = count\n",
    "        \n",
    "        count = 0\n",
    "        \n",
    "    return h"
   ]
  },
  {
   "cell_type": "code",
   "execution_count": 29,
   "metadata": {
    "collapsed": false
   },
   "outputs": [],
   "source": [
    "def topic_recommendation(topic_list, top_num=3):\n",
    "    \"\"\"Select clusters that have the top 3 (by default) most total clicks\"\"\"\n",
    "    for topic in topic_list:\n",
    "        if not np.logical_or(topic in df_link.prev.values, topic in df_link.curr.values):\n",
    "            return '{} not in the database'.format(topic)\n",
    "    \n",
    "    else:\n",
    "        neighbor_list = []\n",
    "        set_intersection = set(clickstream.neighbors(topic_list[0]))\n",
    "        \n",
    "        for topic in topic_list:\n",
    "            neighbor_list.extend(clickstream.neighbors(topic))\n",
    "            set_new = set(clickstream.neighbors(topic))\n",
    "            set_intersection = set_intersection.intersection(set_new)\n",
    "        \n",
    "        if set_intersection:\n",
    "            return [i for (i,j) in sorted(number_of_clicks(df_link, set_intersection, topic).items(), key = lambda x: x[1],reverse=True)[:top_num]]\n",
    "        else:\n",
    "            return [i for (i,j) in sorted(number_of_clicks(df_link, neighbor_list, topic).items(), key = lambda x: x[1],reverse=True)[:top_num]]\n",
    "        "
   ]
  },
  {
   "cell_type": "code",
   "execution_count": 30,
   "metadata": {
    "collapsed": false
   },
   "outputs": [],
   "source": [
    "def topic_image(topic):\n",
    "    from IPython.display import Image\n",
    "    from IPython.core.display import HTML \n",
    "\n",
    "    try:\n",
    "        file = urlopen('https://en.wikipedia.org/wiki/'+topic)\n",
    "        soup = BeautifulSoup(file,'html.parser')\n",
    "        file.close()\n",
    "        url_link = 'https:' + soup.find('tbody').find('img')['src']\n",
    "        return Image(url= url_link)\n",
    "    except:\n",
    "        pass"
   ]
  },
  {
   "cell_type": "code",
   "execution_count": 31,
   "metadata": {
    "collapsed": true
   },
   "outputs": [],
   "source": [
    "from sklearn.feature_extraction.text import TfidfVectorizer"
   ]
  },
  {
   "cell_type": "raw",
   "metadata": {},
   "source": [
    "tfidf_vector_clickstream = TfidfVectorizer(ngram_range=(1,2), token_pattern = r'[A-Za-z0-9]+')\n",
    "\n",
    "clickstream_transform_tfidf = tfidf_vector_clickstream.fit_transform(clickstream.nodes())\n",
    "\n",
    "with open('clickstream_transform_tfidf.pickle', 'wb') as f:\n",
    "    pickle.dump(clickstream_transform_tfidf, f)\n",
    "\n",
    "with open('tfidf_vector_clickstream.pickle', 'wb') as f:\n",
    "    pickle.dump(tfidf_vector_clickstream, f)"
   ]
  },
  {
   "cell_type": "code",
   "execution_count": 32,
   "metadata": {
    "collapsed": true
   },
   "outputs": [],
   "source": [
    "with open('clickstream_transform_tfidf.pickle', 'rb') as f:\n",
    "    clickstream_transform_tfidf = pickle.load(f)\n",
    "\n",
    "with open('tfidf_vector_clickstream.pickle', 'rb') as f:\n",
    "    tfidf_vector_clickstream = pickle.load(f)"
   ]
  },
  {
   "cell_type": "code",
   "execution_count": 33,
   "metadata": {
    "collapsed": false,
    "scrolled": true
   },
   "outputs": [
    {
     "name": "stderr",
     "output_type": "stream",
     "text": [
      "C:\\Users\\Liu\\Anaconda3\\lib\\site-packages\\fuzzywuzzy\\fuzz.py:11: UserWarning: Using slow pure-python SequenceMatcher. Install python-Levenshtein to remove this warning\n",
      "  warnings.warn('Using slow pure-python SequenceMatcher. Install python-Levenshtein to remove this warning')\n"
     ]
    }
   ],
   "source": [
    "from sklearn.metrics import pairwise\n",
    "from fuzzywuzzy import fuzz, process\n",
    "\n",
    "def search_item(topic):\n",
    "    \n",
    "    l = np.where(pairwise.cosine_similarity(clickstream_transform_tfidf, tfidf_vector_clickstream.transform([topic]))[:,0]>0.5)\n",
    "    \n",
    "    match = []\n",
    "    for i in l[0]:\n",
    "        match.append(clickstream.nodes()[i])\n",
    "    \n",
    "    # Get a list of matches ordered by score, default limit to 5\n",
    "    results = process.extract('_'.join(topic.split()), match,limit=3)\n",
    "    try:\n",
    "        if results[0][1] == 100:\n",
    "            return results[0][0]\n",
    "        else:\n",
    "            return [i for i,j in results]\n",
    "    except:\n",
    "        pass"
   ]
  },
  {
   "cell_type": "code",
   "execution_count": 34,
   "metadata": {
    "collapsed": false,
    "scrolled": true
   },
   "outputs": [
    {
     "data": {
      "text/html": [
       "<img src=\"https://upload.wikimedia.org/wikipedia/commons/thumb/5/56/Donald_Trump_official_portrait.jpg/220px-Donald_Trump_official_portrait.jpg\"/>"
      ],
      "text/plain": [
       "<IPython.core.display.Image object>"
      ]
     },
     "execution_count": 34,
     "metadata": {},
     "output_type": "execute_result"
    }
   ],
   "source": [
    "topic_image(search_item('Donald trump'))"
   ]
  },
  {
   "cell_type": "code",
   "execution_count": 35,
   "metadata": {
    "collapsed": false,
    "scrolled": true
   },
   "outputs": [
    {
     "data": {
      "text/plain": [
       "['Barack_Obama', 'President_of_the_United_States', 'Mike_Pence']"
      ]
     },
     "execution_count": 35,
     "metadata": {},
     "output_type": "execute_result"
    }
   ],
   "source": [
    "# Show recommendations of topics related with 'United States' and 'Donald_Trump'\n",
    "l = []\n",
    "for i in topic_recommendation(['United_States','Donald_Trump']):\n",
    "    l.append(i)\n",
    "l"
   ]
  },
  {
   "cell_type": "markdown",
   "metadata": {},
   "source": [
    "### 3.6 Download and preprocess data for other months "
   ]
  },
  {
   "cell_type": "markdown",
   "metadata": {},
   "source": [
    "We summarized all the procedures needed to process Nov 2017 clickstream data files. Once we have df downloaded, we can process our data, store dataframe and network data as pickle files, and return dataframe ready for analysis."
   ]
  },
  {
   "cell_type": "markdown",
   "metadata": {},
   "source": [
    "- Define methods to calculate click through rate(ctr) of topic"
   ]
  },
  {
   "cell_type": "code",
   "execution_count": 36,
   "metadata": {
    "collapsed": true
   },
   "outputs": [],
   "source": [
    "def ctr(topic):\n",
    "    \n",
    "    if not topic in article_link_in:\n",
    "        return 0\n",
    "    if not topic in influence_link:\n",
    "        return 0\n",
    "    \n",
    "    return influence_link.get(topic)/article_link_in.get(topic)\n",
    "    "
   ]
  },
  {
   "cell_type": "markdown",
   "metadata": {},
   "source": [
    "- Generate web traffic features for topic list"
   ]
  },
  {
   "cell_type": "code",
   "execution_count": 37,
   "metadata": {
    "collapsed": false
   },
   "outputs": [],
   "source": [
    "from collections import defaultdict\n",
    "\n",
    "def feature_generation(topic_list):\n",
    "    \n",
    "    feature_dict = defaultdict(list)\n",
    "    \n",
    "    for i in set(topic_list):\n",
    "        \n",
    "        feature_dict[i].extend([degree.get(i,0),\n",
    "                                influence_link.get(i,0),\n",
    "                                influence_other.get(i,0),\n",
    "                                betweenness.get(i,0),\n",
    "                                ctr(i),\n",
    "                                size_maximal_clique.get(i,0),\n",
    "                                article_link_in.get(i,0),\n",
    "                                article_link_out.get(i,0)])\n",
    "    return feature_dict"
   ]
  },
  {
   "cell_type": "markdown",
   "metadata": {},
   "source": [
    "- Define pipeline methods that download and preprocess data"
   ]
  },
  {
   "cell_type": "code",
   "execution_count": 38,
   "metadata": {
    "collapsed": false
   },
   "outputs": [],
   "source": [
    "\n",
    "def file_processing(df, name_list, movie_list, folder):\n",
    "    # df and df_link\n",
    "    df_link = df[df.type=='link']\n",
    "    df_link = df_link[df_link.n>100]\n",
    "    df_link = df_link.dropna()\n",
    "    \n",
    "    with open('pickle/' + folder + '/df_link.pickle','wb') as f:\n",
    "        pickle.dump(df_link, f)\n",
    "\n",
    "    # Network\n",
    "    clickstream = nx.Graph()\n",
    "\n",
    "    clickstream.add_nodes_from(df_link.prev)\n",
    "    clickstream.add_nodes_from(df_link.curr)\n",
    "\n",
    "    clickstream.add_edges_from(zip(df_link.prev, df_link.curr))\n",
    "    with open('pickle/' + folder +'/clickstream.pickle','wb') as f:\n",
    "        pickle.dump(clickstream, f)\n",
    "\n",
    "    # Degree\n",
    "    degree = nx.degree(clickstream)\n",
    "    with open('pickle/' + folder +'/degree.pickle','wb') as f:\n",
    "        pickle.dump(degree, f)\n",
    "        \n",
    "    # Betweenness Centrality. Take Top 5000 most influencial topics\n",
    "    clickstream_subgroup = clickstream.subgraph(df_link.groupby(by = 'prev').n.sum().sort_values(ascending=False)[:5000].index)\n",
    "    betweenness = nx.betweenness_centrality(clickstream_subgroup)\n",
    "    with open('pickle/' + folder + '/betweenness.pickle','wb') as f:\n",
    "        pickle.dump(betweenness, f)\n",
    "\n",
    "    # size_maximal_clique\n",
    "    size_maximal_clique = {}\n",
    "    for i in set(movie_list + name_list):\n",
    "        try:\n",
    "            size_maximal_clique[i] = nx.node_clique_number(clickstream, i)\n",
    "        except:\n",
    "            size_maximal_clique[i] = 0\n",
    "    \n",
    "    with open('pickle/' + folder + '/size_maximal_clique.pickle','wb') as f:\n",
    "        pickle.dump(size_maximal_clique, f)\n",
    "        \n",
    "    # Influence link\n",
    "    influence_link = dict(df_link.groupby(by = 'prev').n.sum())\n",
    "    with open('pickle/' + folder + '/influence_link.pickle','wb') as f:\n",
    "        pickle.dump(influence_link, f)\n",
    "        \n",
    "    # Influence other\n",
    "    influence_other = dict(df[df.type=='other'].groupby(by = 'prev').n.sum())\n",
    "    with open('pickle/' + folder + '/influence_other.pickle','wb') as f:\n",
    "        pickle.dump(influence_other, f)\n",
    "        \n",
    "    # Article link in\n",
    "    article_link_in = df.groupby('curr').sum()\n",
    "    article_link_in = dict(zip(article_link_in.index, article_link_in.n.values))\n",
    "    with open('pickle/' + folder + '/article_link_in.pickle','wb') as f:\n",
    "        pickle.dump(article_link_in, f)\n",
    "\n",
    "    # Article link out\n",
    "    article_link_out = df.groupby('prev').sum()\n",
    "    article_link_out = dict(zip(article_link_out.index, article_link_out.n.values))\n",
    "    with open('pickle/' + folder + '/article_link_out.pickle','wb') as f:\n",
    "        pickle.dump(article_link_out, f)\n",
    "        \n",
    "    # Generate dataframe\n",
    "\n",
    "    random.seed(1)\n",
    "    random_movie_list = np.random.choice(movie_list, 6000, replace = False)\n",
    "\n",
    "    df_new = pd.DataFrame(feature_generation(name_list)).T\n",
    "\n",
    "    df_new = df_new.append(pd.DataFrame(feature_generation(random_movie_list)).T)\n",
    "\n",
    "    df_new.columns = ['n_neighbors','clicks_link','clicks_other','betweenness','ctr','size_maximal_clique','n_views','n_referred']\n",
    "\n",
    "    df_new['label'] = np.repeat([0,1],[len(set(name_list)),len(set(random_movie_list))])\n",
    "    \n",
    "    with open('pickle/' + folder + '/df_new.pickle','wb') as f:\n",
    "        pickle.dump(df_new, f)\n",
    "    \n",
    "    return df_new"
   ]
  },
  {
   "cell_type": "markdown",
   "metadata": {},
   "source": [
    "- Process other Months' data"
   ]
  },
  {
   "cell_type": "raw",
   "metadata": {
    "collapsed": false
   },
   "source": [
    "# It takes ~ 5-6 min to process one file\n",
    "%%time\n",
    "# Download online .gz files and read into dataframe\n",
    "df = pd.read_csv('https://dumps.wikimedia.org/other/clickstream/2017-12/clickstream-enwiki-2017-12.tsv.gz',\n",
    "                 sep='\\t',\n",
    "                 names=['prev','curr','type','n'],\n",
    "                 compression = 'gzip')\n",
    "\n",
    "with open('pickle/2017_12/df.pickle','wb') as f:\n",
    "    pickle.dump(df, f)\n",
    "    \n",
    "df_new = file_processing(df, name_list, movie_list, '2017_12')\n",
    "\n",
    "%%time\n",
    "# 57 min 20s\n",
    "for i in range(1,7):\n",
    "    \n",
    "    df = pd.read_csv('https://dumps.wikimedia.org/other/clickstream/2018-0'+str(i)+'/clickstream-enwiki-2018-0'+str(i)+'.tsv.gz',\n",
    "                     sep='\\t',\n",
    "                     names=['prev','curr','type','n'],\n",
    "                     compression = 'gzip')\n",
    "\n",
    "    with open('pickle/2018_0'+str(i)+'/df.pickle','wb') as f:\n",
    "        pickle.dump(df, f)\n",
    "        \n",
    "    df_new = file_processing(df, name_list, movie_list, '2018_0'+str(i))"
   ]
  },
  {
   "cell_type": "markdown",
   "metadata": {},
   "source": [
    "## 4. Predict the topic class\n",
    "Based on website traffic data, such as degree of centrality, betweenness centrality, number of clicks leading to other topics,  click through rate(ctr), and times of viewed and referred, we can predict the class of the article (whether it is movie stars or movie names). Movies were collected from 1990 to 2019. All the data were scraped from wiki."
   ]
  },
  {
   "cell_type": "markdown",
   "metadata": {},
   "source": [
    "### 4.1 Python code for scraping movie stars and movie names from wiki"
   ]
  },
  {
   "cell_type": "raw",
   "metadata": {
    "collapsed": true
   },
   "source": [
    "# %load PyFile/name_list.py\n",
    "\"\"\"\n",
    "Created on Mon Aug  6 16:26:15 2018\n",
    "\n",
    "@author: Liu\n",
    "\"\"\"\n",
    "\n",
    "# Get actor/actress names from wiki\n",
    "import string\n",
    "import pickle\n",
    "from bs4 import BeautifulSoup\n",
    "from urllib.request import urlopen\n",
    "import re\n",
    "\n",
    "# Actress names\n",
    "file = urlopen('file:///C:/Users/Liu/Documents/Dajiang/DataScientist/Springboard/CapstoneProject/WikiClickStream/html/List%20of%20American%20film%20actresses%20-%20Wikipedia.html')\n",
    "\n",
    "soup = BeautifulSoup(file,'html.parser')\n",
    "\n",
    "name_list = []\n",
    "for j in soup.find_all('h2'):\n",
    "\n",
    "    for i in j.find_next('div').find_all('li'):\n",
    "        if i.a:\n",
    "            str_i = i.a.attrs['href']\n",
    "            match = re.search('(?<=/wiki/)\\w+',str_i)\n",
    "            if match:\n",
    "                name_list.append(match.group(0))\n",
    "name_list = name_list[:-13]\n",
    "\n",
    "# Actor names\n",
    "for i in string.ascii_uppercase:\n",
    "    file = urlopen('https://en.wikipedia.org/wiki/Category:American_male_film_actors?from='+i)\n",
    "    soup = BeautifulSoup(file,'html.parser')\n",
    "    \n",
    "    for j in soup.find('h3',text=i).find_next('ul').find_all('li'):\n",
    "        if j.a:\n",
    "            str_i = j.a.attrs['href']\n",
    "            match = re.search('(?<=/wiki/)\\w+',str_i)\n",
    "            if match:\n",
    "                name_list.append(match.group(0))\n",
    "                \n",
    "                \n",
    "with open('pickle/name_list.pickle','wb') as f:\n",
    "    pickle.dump(name_list, f)"
   ]
  },
  {
   "cell_type": "raw",
   "metadata": {
    "collapsed": true
   },
   "source": [
    "# %load PyFile/movie_list.py\n",
    "\"\"\"\n",
    "Created on Mon Aug  6 16:26:10 2018\n",
    "\n",
    "@author: Liu\n",
    "\"\"\"\n",
    "\n",
    "\n",
    "import pickle\n",
    "from bs4 import BeautifulSoup\n",
    "from urllib.request import urlopen\n",
    "import re\n",
    "\n",
    "movie_list=[]\n",
    "\n",
    "for year in range(1990,2020):\n",
    "    file = urlopen('https://en.wikipedia.org/wiki/'+str(year)+'_in_film')\n",
    "\n",
    "    soup = BeautifulSoup(file, 'html.parser')\n",
    "\n",
    "    for i in soup.find_all('i'):\n",
    "        if i.a:\n",
    "            string = i.a.attrs['href']\n",
    "            match = re.search('(?<=/wiki/)\\w+',string)\n",
    "            if match:\n",
    "                movie_list.append(match.group(0))\n",
    "\n",
    "with open('pickle/movie_list.pickle','wb') as f:\n",
    "    pickle.dump(movie_list, f)"
   ]
  },
  {
   "cell_type": "markdown",
   "metadata": {},
   "source": [
    "Read stored pickle files of movie star list and movie list"
   ]
  },
  {
   "cell_type": "code",
   "execution_count": 39,
   "metadata": {
    "collapsed": false
   },
   "outputs": [],
   "source": [
    "# Load movie list and name list\n",
    "\n",
    "with open('pickle/name_list.pickle','rb') as f:\n",
    "    name_list = pickle.load(f)\n",
    "    \n",
    "with open('pickle/movie_list.pickle','rb') as f:\n",
    "    movie_list = pickle.load(f)\n",
    "    \n",
    "total_list = name_list + movie_list"
   ]
  },
  {
   "cell_type": "markdown",
   "metadata": {},
   "source": [
    "### 4.2 Data Preparation for modeling"
   ]
  },
  {
   "cell_type": "markdown",
   "metadata": {},
   "source": [
    "- Initiate dataframe df_new for 2017-11 data"
   ]
  },
  {
   "cell_type": "raw",
   "metadata": {
    "collapsed": false
   },
   "source": [
    "# Downsampling of movie list to 6000, same as name_list\n",
    "# 0 represent name, 1 represents movie\n",
    "\n",
    "np.random.seed(1)\n",
    "random_movie_list = np.random.choice(movie_list, 6000, replace = False)\n",
    "\n",
    "df_new = pd.DataFrame(feature_generation(name_list)).T\n",
    "\n",
    "df_new = df_new.append(pd.DataFrame(feature_generation(random_movie_list)).T)\n",
    "\n",
    "df_new.columns = ['n_neighbors','clicks_link','clicks_other','betweenness','ctr','size_maximal_clique','n_views','n_referred']\n",
    "\n",
    "df_new['label'] = np.repeat([0,1],[len(set(name_list)),len(set(random_movie_list))])\n",
    "\n",
    "with open('pickle/2017_11/df_new.pickle','wb') as f:\n",
    "    pickle.dump(df_new,f)"
   ]
  },
  {
   "cell_type": "code",
   "execution_count": 40,
   "metadata": {
    "collapsed": false
   },
   "outputs": [],
   "source": [
    "with open('pickle/2017_11/df_new.pickle','rb') as f:\n",
    "    df_new = pickle.load(f)"
   ]
  },
  {
   "cell_type": "code",
   "execution_count": 41,
   "metadata": {
    "collapsed": false
   },
   "outputs": [
    {
     "data": {
      "text/html": [
       "<div>\n",
       "<table border=\"1\" class=\"dataframe\">\n",
       "  <thead>\n",
       "    <tr style=\"text-align: right;\">\n",
       "      <th></th>\n",
       "      <th>n_neighbors</th>\n",
       "      <th>clicks_link</th>\n",
       "      <th>clicks_other</th>\n",
       "      <th>betweenness</th>\n",
       "      <th>ctr</th>\n",
       "      <th>size_maximal_clique</th>\n",
       "      <th>n_views</th>\n",
       "      <th>n_referred</th>\n",
       "      <th>label</th>\n",
       "    </tr>\n",
       "  </thead>\n",
       "  <tbody>\n",
       "    <tr>\n",
       "      <th>A</th>\n",
       "      <td>3.0</td>\n",
       "      <td>0.0</td>\n",
       "      <td>0.0</td>\n",
       "      <td>0.0</td>\n",
       "      <td>0.000000</td>\n",
       "      <td>3.0</td>\n",
       "      <td>195278.0</td>\n",
       "      <td>0.0</td>\n",
       "      <td>0</td>\n",
       "    </tr>\n",
       "    <tr>\n",
       "      <th>AJ_Michalka</th>\n",
       "      <td>26.0</td>\n",
       "      <td>15278.0</td>\n",
       "      <td>42.0</td>\n",
       "      <td>0.0</td>\n",
       "      <td>0.351404</td>\n",
       "      <td>4.0</td>\n",
       "      <td>43477.0</td>\n",
       "      <td>16088.0</td>\n",
       "      <td>0</td>\n",
       "    </tr>\n",
       "    <tr>\n",
       "      <th>Aaliyah_Haughton</th>\n",
       "      <td>0.0</td>\n",
       "      <td>0.0</td>\n",
       "      <td>0.0</td>\n",
       "      <td>0.0</td>\n",
       "      <td>0.000000</td>\n",
       "      <td>0.0</td>\n",
       "      <td>0.0</td>\n",
       "      <td>0.0</td>\n",
       "      <td>0</td>\n",
       "    </tr>\n",
       "    <tr>\n",
       "      <th>Aaron_Carter</th>\n",
       "      <td>19.0</td>\n",
       "      <td>12290.0</td>\n",
       "      <td>167.0</td>\n",
       "      <td>0.0</td>\n",
       "      <td>0.173502</td>\n",
       "      <td>4.0</td>\n",
       "      <td>70835.0</td>\n",
       "      <td>14365.0</td>\n",
       "      <td>0</td>\n",
       "    </tr>\n",
       "    <tr>\n",
       "      <th>Aaron_Eckhart</th>\n",
       "      <td>47.0</td>\n",
       "      <td>12931.0</td>\n",
       "      <td>41.0</td>\n",
       "      <td>0.0</td>\n",
       "      <td>0.233294</td>\n",
       "      <td>4.0</td>\n",
       "      <td>55428.0</td>\n",
       "      <td>14219.0</td>\n",
       "      <td>0</td>\n",
       "    </tr>\n",
       "  </tbody>\n",
       "</table>\n",
       "</div>"
      ],
      "text/plain": [
       "                  n_neighbors  clicks_link  clicks_other  betweenness  \\\n",
       "A                         3.0          0.0           0.0          0.0   \n",
       "AJ_Michalka              26.0      15278.0          42.0          0.0   \n",
       "Aaliyah_Haughton          0.0          0.0           0.0          0.0   \n",
       "Aaron_Carter             19.0      12290.0         167.0          0.0   \n",
       "Aaron_Eckhart            47.0      12931.0          41.0          0.0   \n",
       "\n",
       "                       ctr  size_maximal_clique   n_views  n_referred  label  \n",
       "A                 0.000000                  3.0  195278.0         0.0      0  \n",
       "AJ_Michalka       0.351404                  4.0   43477.0     16088.0      0  \n",
       "Aaliyah_Haughton  0.000000                  0.0       0.0         0.0      0  \n",
       "Aaron_Carter      0.173502                  4.0   70835.0     14365.0      0  \n",
       "Aaron_Eckhart     0.233294                  4.0   55428.0     14219.0      0  "
      ]
     },
     "execution_count": 41,
     "metadata": {},
     "output_type": "execute_result"
    }
   ],
   "source": [
    "df_new.head()"
   ]
  },
  {
   "cell_type": "markdown",
   "metadata": {},
   "source": [
    "- Append other months' data"
   ]
  },
  {
   "cell_type": "code",
   "execution_count": 42,
   "metadata": {
    "collapsed": true
   },
   "outputs": [],
   "source": [
    "for folder in ['2017_12','2018_01','2018_02','2018_03','2018_04','2018_05','2018_06']:\n",
    "    with open('pickle/'+folder+'/df_new.pickle', 'rb') as f:\n",
    "        temp = pickle.load(f)\n",
    "    df_new = df_new.append(temp)    "
   ]
  },
  {
   "cell_type": "markdown",
   "metadata": {},
   "source": [
    "- Scale the data"
   ]
  },
  {
   "cell_type": "code",
   "execution_count": 43,
   "metadata": {
    "collapsed": true
   },
   "outputs": [],
   "source": [
    "from sklearn.preprocessing import StandardScaler\n",
    "\n",
    "scale = StandardScaler()\n",
    "xdata = scale.fit_transform(df_new.drop('label', axis = 1))\n",
    "ydata = df_new['label']\n"
   ]
  },
  {
   "cell_type": "code",
   "execution_count": 44,
   "metadata": {
    "collapsed": false
   },
   "outputs": [
    {
     "data": {
      "text/plain": [
       "(81551, 8)"
      ]
     },
     "execution_count": 44,
     "metadata": {},
     "output_type": "execute_result"
    }
   ],
   "source": [
    "xdata.shape"
   ]
  },
  {
   "cell_type": "markdown",
   "metadata": {},
   "source": [
    "- Split data into training and testing sets"
   ]
  },
  {
   "cell_type": "code",
   "execution_count": 45,
   "metadata": {
    "collapsed": false
   },
   "outputs": [],
   "source": [
    "from sklearn.model_selection import train_test_split\n",
    "xtrain, xtest, ytrain, ytest = train_test_split(xdata, ydata, test_size = 0.3, random_state = 1)"
   ]
  },
  {
   "cell_type": "code",
   "execution_count": 46,
   "metadata": {
    "collapsed": false
   },
   "outputs": [],
   "source": [
    "# Define method for model evaluation\n",
    "from sklearn.metrics import accuracy_score, confusion_matrix, roc_auc_score, f1_score\n",
    "\n",
    "def model_performance(ytest, ypredict):\n",
    "    print('Accuracy:      {}'.format(accuracy_score(ytest, ypredict)))\n",
    "    print('Roc_Auc_Score: {}'.format(roc_auc_score(ytest, ypredict)))\n",
    "    print('F1_Score:      {}'.format(f1_score(ytest, ypredict)))\n",
    "    print('Confusion Matrix:\\n{}'.format(confusion_matrix(ytest, ypredict)))"
   ]
  },
  {
   "cell_type": "markdown",
   "metadata": {},
   "source": [
    "### 4.3 Modeling for classification"
   ]
  },
  {
   "cell_type": "markdown",
   "metadata": {},
   "source": [
    "#### Logistic Regression"
   ]
  },
  {
   "cell_type": "code",
   "execution_count": 47,
   "metadata": {
    "collapsed": true
   },
   "outputs": [],
   "source": [
    "from sklearn.linear_model import LogisticRegression"
   ]
  },
  {
   "cell_type": "raw",
   "metadata": {
    "collapsed": false
   },
   "source": [
    "lr = LogisticRegression()\n",
    "lr.fit(xtrain, ytrain)\n",
    "\n",
    "with open('pickle/lr.pickle','wb') as f:\n",
    "    pickle.dump(lr, f)"
   ]
  },
  {
   "cell_type": "code",
   "execution_count": 48,
   "metadata": {
    "collapsed": false
   },
   "outputs": [
    {
     "name": "stdout",
     "output_type": "stream",
     "text": [
      "Accuracy:      0.7142565192512057\n",
      "Roc_Auc_Score: 0.7243622894355001\n",
      "F1_Score:      0.7205947004516208\n",
      "Confusion Matrix:\n",
      "[[8460 5039]\n",
      " [1952 9015]]\n"
     ]
    }
   ],
   "source": [
    "with open('pickle/lr.pickle','rb') as f:\n",
    "    lr = pickle.load(f)\n",
    "\n",
    "lr_predict = lr.predict(xtest)\n",
    "\n",
    "model_performance(ytest, lr_predict)"
   ]
  },
  {
   "cell_type": "markdown",
   "metadata": {},
   "source": [
    "#### Random Forest"
   ]
  },
  {
   "cell_type": "code",
   "execution_count": 49,
   "metadata": {
    "collapsed": true
   },
   "outputs": [],
   "source": [
    "from sklearn.ensemble import RandomForestClassifier\n",
    "from sklearn.model_selection import GridSearchCV"
   ]
  },
  {
   "cell_type": "raw",
   "metadata": {
    "collapsed": false
   },
   "source": [
    "param = {'n_estimators':[10,100, 200, 500], 'max_features':['auto', 'sqrt','log2']}\n",
    "rf = GridSearchCV(RandomForestClassifier(random_state=1), param)\n",
    "rf.fit(xtrain, ytrain)\n",
    "with open('pickle/rf.pickle','wb') as f:\n",
    "    pickle.dump(rf, f)"
   ]
  },
  {
   "cell_type": "code",
   "execution_count": 50,
   "metadata": {
    "collapsed": false
   },
   "outputs": [
    {
     "name": "stdout",
     "output_type": "stream",
     "text": [
      "Accuracy:      0.8679800539524237\n",
      "Roc_Auc_Score: 0.8747944565737972\n",
      "F1_Score:      0.8646383371050206\n",
      "Confusion Matrix:\n",
      "[[10920  2579]\n",
      " [  651 10316]]\n"
     ]
    }
   ],
   "source": [
    "with open('pickle/rf.pickle','rb') as f:\n",
    "    rf = pickle.load(f)\n",
    "\n",
    "model_performance(ytest, rf.predict(xtest))"
   ]
  },
  {
   "cell_type": "code",
   "execution_count": 51,
   "metadata": {
    "collapsed": true
   },
   "outputs": [],
   "source": [
    "# Feature importance"
   ]
  },
  {
   "cell_type": "code",
   "execution_count": 52,
   "metadata": {
    "collapsed": false
   },
   "outputs": [
    {
     "data": {
      "text/plain": [
       "RandomForestClassifier(bootstrap=True, class_weight=None, criterion='gini',\n",
       "            max_depth=None, max_features='auto', max_leaf_nodes=None,\n",
       "            min_impurity_split=1e-07, min_samples_leaf=1,\n",
       "            min_samples_split=2, min_weight_fraction_leaf=0.0,\n",
       "            n_estimators=10, n_jobs=1, oob_score=False, random_state=None,\n",
       "            verbose=0, warm_start=False)"
      ]
     },
     "execution_count": 52,
     "metadata": {},
     "output_type": "execute_result"
    }
   ],
   "source": [
    "rf = RandomForestClassifier()\n",
    "rf.fit(xtrain, ytrain)"
   ]
  },
  {
   "cell_type": "markdown",
   "metadata": {
    "collapsed": true
   },
   "source": [
    "#### KNN"
   ]
  },
  {
   "cell_type": "code",
   "execution_count": 53,
   "metadata": {
    "collapsed": true
   },
   "outputs": [],
   "source": [
    "from sklearn.neighbors import KNeighborsClassifier"
   ]
  },
  {
   "cell_type": "raw",
   "metadata": {
    "collapsed": false
   },
   "source": [
    "param = {'n_neighbors':range(1,20)}\n",
    "knn = GridSearchCV(KNeighborsClassifier(), param)\n",
    "knn.fit(xtrain, ytrain)\n",
    "\n",
    "with open('pickle/knn.pickle','wb') as f:\n",
    "    pickle.dump(knn.best_estimator_, f)"
   ]
  },
  {
   "cell_type": "code",
   "execution_count": 54,
   "metadata": {
    "collapsed": false
   },
   "outputs": [
    {
     "name": "stdout",
     "output_type": "stream",
     "text": [
      "Accuracy:      0.8552685359274095\n",
      "Roc_Auc_Score: 0.8630527447625829\n",
      "F1_Score:      0.8531984577753824\n",
      "Confusion Matrix:\n",
      "[[10635  2864]\n",
      " [  677 10290]]\n"
     ]
    }
   ],
   "source": [
    "with open('pickle/knn.pickle','rb') as f:\n",
    "    knn = pickle.load(f)\n",
    "\n",
    "model_performance(ytest, knn.predict(xtest))"
   ]
  },
  {
   "cell_type": "markdown",
   "metadata": {
    "collapsed": true
   },
   "source": [
    "### 4.4 Interpretation of features and their importance in prediction\n",
    "Herein, we summarized the feature importance obtained from random forest along with coefficients obtained from logistic regression, and we ranked the importance from high to low. It is interesting that the top 4 features explained 76% variance. \n",
    "Notice Actor/Actress names are labeled as 0, movie names are labeled as 1. Actor/Actress names rendered more views than movies (negative coefficient for n_views), while movie topics tended to be related with more other articles and thus have higher ctr rates (positive coefficient for ctr and n_referred). "
   ]
  },
  {
   "cell_type": "code",
   "execution_count": 55,
   "metadata": {
    "collapsed": false,
    "scrolled": true
   },
   "outputs": [
    {
     "data": {
      "text/html": [
       "<div>\n",
       "<table border=\"1\" class=\"dataframe\">\n",
       "  <thead>\n",
       "    <tr style=\"text-align: right;\">\n",
       "      <th></th>\n",
       "      <th>Coefficient</th>\n",
       "      <th>Importance</th>\n",
       "    </tr>\n",
       "    <tr>\n",
       "      <th>Feature</th>\n",
       "      <th></th>\n",
       "      <th></th>\n",
       "    </tr>\n",
       "  </thead>\n",
       "  <tbody>\n",
       "    <tr>\n",
       "      <th>n_views</th>\n",
       "      <td>-2.843770</td>\n",
       "      <td>0.349021</td>\n",
       "    </tr>\n",
       "    <tr>\n",
       "      <th>ctr</th>\n",
       "      <td>1.636485</td>\n",
       "      <td>0.191675</td>\n",
       "    </tr>\n",
       "    <tr>\n",
       "      <th>n_referred</th>\n",
       "      <td>3.058649</td>\n",
       "      <td>0.180420</td>\n",
       "    </tr>\n",
       "    <tr>\n",
       "      <th>n_neighbors</th>\n",
       "      <td>0.076477</td>\n",
       "      <td>0.101809</td>\n",
       "    </tr>\n",
       "    <tr>\n",
       "      <th>clicks_link</th>\n",
       "      <td>-2.217717</td>\n",
       "      <td>0.080912</td>\n",
       "    </tr>\n",
       "    <tr>\n",
       "      <th>clicks_other</th>\n",
       "      <td>0.413321</td>\n",
       "      <td>0.061375</td>\n",
       "    </tr>\n",
       "    <tr>\n",
       "      <th>size_maximal_clique</th>\n",
       "      <td>-1.403904</td>\n",
       "      <td>0.029850</td>\n",
       "    </tr>\n",
       "    <tr>\n",
       "      <th>betweenness</th>\n",
       "      <td>0.201414</td>\n",
       "      <td>0.004938</td>\n",
       "    </tr>\n",
       "  </tbody>\n",
       "</table>\n",
       "</div>"
      ],
      "text/plain": [
       "                     Coefficient  Importance\n",
       "Feature                                     \n",
       "n_views                -2.843770    0.349021\n",
       "ctr                     1.636485    0.191675\n",
       "n_referred              3.058649    0.180420\n",
       "n_neighbors             0.076477    0.101809\n",
       "clicks_link            -2.217717    0.080912\n",
       "clicks_other            0.413321    0.061375\n",
       "size_maximal_clique    -1.403904    0.029850\n",
       "betweenness             0.201414    0.004938"
      ]
     },
     "execution_count": 55,
     "metadata": {},
     "output_type": "execute_result"
    }
   ],
   "source": [
    "feature_eval = pd.DataFrame.from_dict({'Feature':df_new.columns[:-1],\n",
    "                                       'Importance': rf.feature_importances_, \n",
    "                                       'Coefficient':lr.coef_[0]})\n",
    "\n",
    "feature_eval = feature_eval.set_index('Feature')\n",
    "\n",
    "feature_eval.sort_values('Importance', ascending = False)"
   ]
  },
  {
   "cell_type": "markdown",
   "metadata": {},
   "source": [
    "## 5. Predict profits from advertisement clicks\n",
    "Herein, we made a bold assumption that Wiki is for profit and would like to predict how much Wiki will earn from clicks of the advertisement. \n",
    "\n",
    "Suppose we would like to launch an advertisement campaign for the movie 'Stranger Things'. \n",
    "\n",
    "Our goals are: 1) Identify topics that we should post the ad on in order to earn the highest profits; 2) Predict profits earned from ad clicking. \n",
    "\n",
    "The expected revenue coming from ad clicks can be calculated as ctr\\*(profit/click)\\*clicks. So if profit per click is \\$2, ctr is 0.04 and clicks are 1,000, our anticipated profit would be \\$80"
   ]
  },
  {
   "cell_type": "markdown",
   "metadata": {},
   "source": [
    "### 5.1 Identify topics earning highest profits"
   ]
  },
  {
   "cell_type": "code",
   "execution_count": 56,
   "metadata": {
    "collapsed": false
   },
   "outputs": [],
   "source": [
    "import warnings\n",
    "warnings.filterwarnings('ignore')"
   ]
  },
  {
   "cell_type": "code",
   "execution_count": 57,
   "metadata": {
    "collapsed": false
   },
   "outputs": [],
   "source": [
    "# Define methods for calculating profits from different articles\n",
    "\n",
    "def ad_profit(df_link, article_link_in, ad, price_per_click=2):\n",
    "\n",
    "    # Select ad view and assign to df_ad\n",
    "    df_ad = df_link[df_link.curr == ad]\n",
    "\n",
    "    # Create ctr column, calculate the ctr rate of webpage containing this ad\n",
    "    df_ad['n_neighbors'] = df_ad.apply(lambda x: degree.get(x.prev, 0), axis = 1)\n",
    "    df_ad['clicks_link'] = df_ad.apply(lambda x: influence_link.get(x.prev, 0), axis = 1)\n",
    "    df_ad['clicks_other'] = df_ad.apply(lambda x: influence_other.get(x.prev, 0), axis = 1)\n",
    "    df_ad['betweenness'] = df_ad.apply(lambda x: betweenness.get(x.prev, 0), axis = 1)\n",
    "    df_ad['ctr'] = df_ad.apply(lambda x: ctr(x.prev), axis = 1)\n",
    "    df_ad['size_maximal_clique'] = df_ad.apply(lambda x: size_maximal_clique.get(x.prev, 0), axis = 1)\n",
    "    df_ad['n_views'] = df_ad.apply(lambda x: article_link_in.get(x.prev, 0), axis = 1)\n",
    "    df_ad['n_referred'] = df_ad.apply(lambda x: article_link_out.get(x.prev, 0), axis = 1)\n",
    "    df_ad['ctr'] = df_ad.apply(lambda x: x.n/article_link_in.get(x.prev,0), axis = 1)\n",
    "    df_ad['profit'] = df_ad.apply(lambda x: x.n*x.ctr*price_per_click, axis = 1)\n",
    "    \n",
    "    df_ad = df_ad.sort_values('profit', ascending=False)\n",
    "    df_ad.index = range(len(df_ad))\n",
    "    \n",
    "    return df_ad"
   ]
  },
  {
   "cell_type": "code",
   "execution_count": 58,
   "metadata": {
    "collapsed": false,
    "scrolled": false
   },
   "outputs": [],
   "source": [
    "def df_ad_data_prepare(topic):\n",
    "    \n",
    "    df_ad = pd.DataFrame()\n",
    "\n",
    "    for folder in ['2017_11','2017_12','2018_01','2018_02','2018_03','2018_04','2018_05','2018_06']:\n",
    "\n",
    "        with open('pickle/'+folder+'/df_link.pickle', 'rb') as f:\n",
    "            df_link = pickle.load(f)\n",
    "        with open('pickle/'+folder+'/article_link_in.pickle', 'rb') as f:\n",
    "            article_link_in = pickle.load(f)\n",
    "        with open('pickle/'+folder+'/degree.pickle', 'rb') as f:\n",
    "            degree = pickle.load(f)\n",
    "        with open('pickle/'+folder+'/influence_link.pickle', 'rb') as f:\n",
    "            influence_link = pickle.load(f)\n",
    "        with open('pickle/'+folder+'/influence_other.pickle', 'rb') as f:\n",
    "            influence_other = pickle.load(f)\n",
    "        with open('pickle/'+folder+'/betweenness.pickle', 'rb') as f:\n",
    "            betweenness = pickle.load(f)\n",
    "        with open('pickle/'+folder+'/size_maximal_clique.pickle', 'rb') as f:\n",
    "            size_maximal_clique = pickle.load(f)\n",
    "        with open('pickle/'+folder+'/article_link_out.pickle', 'rb') as f:\n",
    "            article_link_out = pickle.load(f)\n",
    "\n",
    "        df_ad = df_ad.append(ad_profit(df_link, article_link_in, topic))\n",
    "                \n",
    "    return df_ad"
   ]
  },
  {
   "cell_type": "raw",
   "metadata": {
    "collapsed": false
   },
   "source": [
    "df_ad = df_ad_data_prepare('Stranger_Things')\n",
    "\n",
    "with open('df_ad.pickle', 'wb') as f:\n",
    "    pickle.dump(df_ad, f)"
   ]
  },
  {
   "cell_type": "code",
   "execution_count": 59,
   "metadata": {
    "collapsed": true
   },
   "outputs": [],
   "source": [
    "with open('df_ad.pickle','rb') as f:\n",
    "    df_ad = pickle.load(f)"
   ]
  },
  {
   "cell_type": "code",
   "execution_count": 60,
   "metadata": {
    "collapsed": false,
    "scrolled": true
   },
   "outputs": [
    {
     "data": {
      "text/plain": [
       "(480, 13)"
      ]
     },
     "execution_count": 60,
     "metadata": {},
     "output_type": "execute_result"
    }
   ],
   "source": [
    "df_ad.shape"
   ]
  },
  {
   "cell_type": "markdown",
   "metadata": {},
   "source": [
    "It could be seen that 196 articles (total 480 articles) account for 95% of total profits. Our goal is thus to differentiate high profitable topics vs. other topics"
   ]
  },
  {
   "cell_type": "code",
   "execution_count": 61,
   "metadata": {
    "collapsed": false,
    "scrolled": true
   },
   "outputs": [
    {
     "data": {
      "text/plain": [
       "<matplotlib.text.Text at 0x191f847ff98>"
      ]
     },
     "execution_count": 61,
     "metadata": {},
     "output_type": "execute_result"
    },
    {
     "data": {
      "image/png": "[encoded data removed]",
      "text/plain": [
       "<matplotlib.figure.Figure at 0x191f8a2a198>"
      ]
     },
     "metadata": {},
     "output_type": "display_data"
    }
   ],
   "source": [
    "# 196 highest profits account for 95% profits\n",
    "_ = plt.plot(range(len(df_ad)), np.cumsum(df_ad.sort_values('profit', ascending=False).profit/df_ad.profit.sum()))\n",
    "plt.plot([0,500], [0.95, 0.95], 'r--')\n",
    "plt.annotate('95% profits earned', xy = (0,0.96), xytext = (0,0.96),color = 'r')\n",
    "plt.xlabel('Number of highest profits')\n",
    "plt.ylabel('Percentage of profits earned')"
   ]
  },
  {
   "cell_type": "markdown",
   "metadata": {},
   "source": [
    "Label the top 196 articles as 1, and the rest as 0"
   ]
  },
  {
   "cell_type": "code",
   "execution_count": 62,
   "metadata": {
    "collapsed": false,
    "scrolled": true
   },
   "outputs": [],
   "source": [
    "def ad_preprocess(df_ad):\n",
    "    \n",
    "    df_ad_new = df_ad\n",
    "    df_ad_new.index = range(len(df_ad_new))\n",
    "    \n",
    "    # Select the first index where the cumulative percentage of profits earned higher than 95%\n",
    "    index = np.sum(np.cumsum(df_ad_new.sort_values('profit', ascending=False).profit/df_ad_new.profit.sum())<0.95)\n",
    "    \n",
    "    # If article belongs to high profits, label decision 1, else label 0\n",
    "    df_ad_new['decision'] = df_ad_new.profit.apply(lambda x: x>=df_ad_new.loc[index, 'profit']).astype(int)\n",
    "\n",
    "    return df_ad_new\n",
    "\n",
    "df_ad_new = ad_preprocess(df_ad)"
   ]
  },
  {
   "cell_type": "code",
   "execution_count": 63,
   "metadata": {
    "collapsed": false
   },
   "outputs": [
    {
     "data": {
      "text/html": [
       "<div>\n",
       "<table border=\"1\" class=\"dataframe\">\n",
       "  <thead>\n",
       "    <tr style=\"text-align: right;\">\n",
       "      <th></th>\n",
       "      <th>prev</th>\n",
       "      <th>curr</th>\n",
       "      <th>type</th>\n",
       "      <th>n</th>\n",
       "      <th>n_neighbors</th>\n",
       "      <th>clicks_link</th>\n",
       "      <th>clicks_other</th>\n",
       "      <th>betweenness</th>\n",
       "      <th>ctr</th>\n",
       "      <th>size_maximal_clique</th>\n",
       "      <th>n_views</th>\n",
       "      <th>n_referred</th>\n",
       "      <th>profit</th>\n",
       "      <th>decision</th>\n",
       "    </tr>\n",
       "  </thead>\n",
       "  <tbody>\n",
       "    <tr>\n",
       "      <th>0</th>\n",
       "      <td>Millie_Bobby_Brown</td>\n",
       "      <td>Stranger_Things</td>\n",
       "      <td>link</td>\n",
       "      <td>42191</td>\n",
       "      <td>57</td>\n",
       "      <td>181137</td>\n",
       "      <td>5490</td>\n",
       "      <td>0.003485</td>\n",
       "      <td>0.017489</td>\n",
       "      <td>8</td>\n",
       "      <td>2412412</td>\n",
       "      <td>187437</td>\n",
       "      <td>1475.768220</td>\n",
       "      <td>1</td>\n",
       "    </tr>\n",
       "    <tr>\n",
       "      <th>1</th>\n",
       "      <td>Joe_Keery</td>\n",
       "      <td>Stranger_Things</td>\n",
       "      <td>link</td>\n",
       "      <td>23018</td>\n",
       "      <td>25</td>\n",
       "      <td>59360</td>\n",
       "      <td>1953</td>\n",
       "      <td>0.000711</td>\n",
       "      <td>0.022868</td>\n",
       "      <td>8</td>\n",
       "      <td>1006578</td>\n",
       "      <td>61619</td>\n",
       "      <td>1052.731778</td>\n",
       "      <td>1</td>\n",
       "    </tr>\n",
       "    <tr>\n",
       "      <th>2</th>\n",
       "      <td>Duffer_Brothers</td>\n",
       "      <td>Stranger_Things</td>\n",
       "      <td>link</td>\n",
       "      <td>17847</td>\n",
       "      <td>29</td>\n",
       "      <td>101286</td>\n",
       "      <td>891</td>\n",
       "      <td>0.000206</td>\n",
       "      <td>0.029125</td>\n",
       "      <td>4</td>\n",
       "      <td>612774</td>\n",
       "      <td>102659</td>\n",
       "      <td>1039.585260</td>\n",
       "      <td>1</td>\n",
       "    </tr>\n",
       "    <tr>\n",
       "      <th>3</th>\n",
       "      <td>Stranger_Things_(disambiguation)</td>\n",
       "      <td>Stranger_Things</td>\n",
       "      <td>link</td>\n",
       "      <td>2163</td>\n",
       "      <td>4</td>\n",
       "      <td>3598</td>\n",
       "      <td>23</td>\n",
       "      <td>0.000000</td>\n",
       "      <td>0.229034</td>\n",
       "      <td>3</td>\n",
       "      <td>9444</td>\n",
       "      <td>3911</td>\n",
       "      <td>990.802414</td>\n",
       "      <td>1</td>\n",
       "    </tr>\n",
       "    <tr>\n",
       "      <th>4</th>\n",
       "      <td>Finn_Wolfhard</td>\n",
       "      <td>Stranger_Things</td>\n",
       "      <td>link</td>\n",
       "      <td>20771</td>\n",
       "      <td>34</td>\n",
       "      <td>86363</td>\n",
       "      <td>929</td>\n",
       "      <td>0.000909</td>\n",
       "      <td>0.020595</td>\n",
       "      <td>8</td>\n",
       "      <td>1008546</td>\n",
       "      <td>88387</td>\n",
       "      <td>855.557289</td>\n",
       "      <td>1</td>\n",
       "    </tr>\n",
       "  </tbody>\n",
       "</table>\n",
       "</div>"
      ],
      "text/plain": [
       "                               prev             curr  type      n  \\\n",
       "0                Millie_Bobby_Brown  Stranger_Things  link  42191   \n",
       "1                         Joe_Keery  Stranger_Things  link  23018   \n",
       "2                   Duffer_Brothers  Stranger_Things  link  17847   \n",
       "3  Stranger_Things_(disambiguation)  Stranger_Things  link   2163   \n",
       "4                     Finn_Wolfhard  Stranger_Things  link  20771   \n",
       "\n",
       "   n_neighbors  clicks_link  clicks_other  betweenness       ctr  \\\n",
       "0           57       181137          5490     0.003485  0.017489   \n",
       "1           25        59360          1953     0.000711  0.022868   \n",
       "2           29       101286           891     0.000206  0.029125   \n",
       "3            4         3598            23     0.000000  0.229034   \n",
       "4           34        86363           929     0.000909  0.020595   \n",
       "\n",
       "   size_maximal_clique  n_views  n_referred       profit  decision  \n",
       "0                    8  2412412      187437  1475.768220         1  \n",
       "1                    8  1006578       61619  1052.731778         1  \n",
       "2                    4   612774      102659  1039.585260         1  \n",
       "3                    3     9444        3911   990.802414         1  \n",
       "4                    8  1008546       88387   855.557289         1  "
      ]
     },
     "execution_count": 63,
     "metadata": {},
     "output_type": "execute_result"
    }
   ],
   "source": [
    "df_ad_new.head()"
   ]
  },
  {
   "cell_type": "markdown",
   "metadata": {},
   "source": [
    "#### 5.1.1 Identify high profitable topics based on NLP\n",
    "\n",
    "Our goal is try to identify the high profitable topics (topics contribute to 95% profits and labeled 1) based on NLP. Herein, we used Bag-of-Words and TFIDF to transform the text and predict whether these articles will earn high profits."
   ]
  },
  {
   "cell_type": "code",
   "execution_count": 64,
   "metadata": {
    "collapsed": false
   },
   "outputs": [],
   "source": [
    "# Identify the high_profit_articles and low profit articles in last 8 months\n",
    "\n",
    "high_profits_articles = list(set(df_ad_new.prev[df_ad_new.decision == 1].unique())- set(df_ad_new.prev[df_ad_new.decision == 0].unique()))\n",
    "\n",
    "low_profits_articles = list(set(df_ad_new.prev[df_ad_new.decision == 0].unique())- set(df_ad_new.prev[df_ad_new.decision == 1].unique()))"
   ]
  },
  {
   "cell_type": "raw",
   "metadata": {},
   "source": [
    "Extract texts of articles. To simplify, we only extracted texts in paragraph (within <p> <\\p>)"
   ]
  },
  {
   "cell_type": "code",
   "execution_count": 65,
   "metadata": {
    "collapsed": false
   },
   "outputs": [],
   "source": [
    "from nltk.tokenize import regexp_tokenize\n",
    "\n",
    "def extract_text(topic):\n",
    "    try:\n",
    "        file = urlopen('https://en.wikipedia.org/wiki/' + topic)\n",
    "        soup = BeautifulSoup(file, 'html.parser')\n",
    "\n",
    "        l = soup.find_all('p')\n",
    "        result = ''\n",
    "\n",
    "        for i in l:\n",
    "            result += ''.join(regexp_tokenize(str(i), r'>([\\w\\s\\!\\\"#$%&\\'\\()*\\+,-./:;=\\?@\\\\\\^_`{|}~]+)<')).strip()\n",
    "\n",
    "        return result\n",
    "    except:\n",
    "        pass"
   ]
  },
  {
   "cell_type": "raw",
   "metadata": {
    "collapsed": false
   },
   "source": [
    "# Store results i in dictionary\n",
    "dict_articles = defaultdict(list)\n",
    "for i in high_profits_articles:\n",
    "    dict_articles['topic'].append(i)\n",
    "    dict_articles['text'].append(extract_text(i))\n",
    "    dict_articles['decision'].append(1)\n",
    "for i in low_profits_articles:\n",
    "    dict_articles['topic'].append(i)\n",
    "    dict_articles['text'].append(extract_text(i))\n",
    "    dict_articles['decision'].append(0)\n",
    "\n",
    "with open('dict_articles.pickle', 'wb') as f:\n",
    "    pickle.dump(dict_articles, f)"
   ]
  },
  {
   "cell_type": "code",
   "execution_count": 66,
   "metadata": {
    "collapsed": true
   },
   "outputs": [],
   "source": [
    "with open('dict_articles.pickle', 'rb') as f:\n",
    "    dict_articles = pickle.load(f)"
   ]
  },
  {
   "cell_type": "code",
   "execution_count": 67,
   "metadata": {
    "collapsed": true
   },
   "outputs": [],
   "source": [
    "# Convert dict to dataframe\n",
    "df_articles = pd.DataFrame(dict_articles)"
   ]
  },
  {
   "cell_type": "code",
   "execution_count": 68,
   "metadata": {
    "collapsed": false
   },
   "outputs": [
    {
     "data": {
      "text/html": [
       "<div>\n",
       "<table border=\"1\" class=\"dataframe\">\n",
       "  <thead>\n",
       "    <tr style=\"text-align: right;\">\n",
       "      <th></th>\n",
       "      <th>decision</th>\n",
       "      <th>text</th>\n",
       "      <th>topic</th>\n",
       "    </tr>\n",
       "  </thead>\n",
       "  <tbody>\n",
       "    <tr>\n",
       "      <th>0</th>\n",
       "      <td>1</td>\n",
       "      <td>Matthew Avery Modine (born March 22, 1959) is ...</td>\n",
       "      <td>Matthew_Modine</td>\n",
       "    </tr>\n",
       "    <tr>\n",
       "      <th>1</th>\n",
       "      <td>1</td>\n",
       "      <td>Telltale Incorporated, doing business as Tellt...</td>\n",
       "      <td>Telltale_Games</td>\n",
       "    </tr>\n",
       "    <tr>\n",
       "      <th>2</th>\n",
       "      <td>1</td>\n",
       "      <td>Daniel Rosenfeld, (born 9 May 1989) also known...</td>\n",
       "      <td>C418</td>\n",
       "    </tr>\n",
       "    <tr>\n",
       "      <th>3</th>\n",
       "      <td>1</td>\n",
       "      <td>Sadie Sink (born April 16, 2002) is an America...</td>\n",
       "      <td>Sadie_Sink</td>\n",
       "    </tr>\n",
       "    <tr>\n",
       "      <th>4</th>\n",
       "      <td>1</td>\n",
       "      <td>Charlie Heaton is an English actor and musicia...</td>\n",
       "      <td>Charlie_Heaton</td>\n",
       "    </tr>\n",
       "  </tbody>\n",
       "</table>\n",
       "</div>"
      ],
      "text/plain": [
       "   decision                                               text           topic\n",
       "0         1  Matthew Avery Modine (born March 22, 1959) is ...  Matthew_Modine\n",
       "1         1  Telltale Incorporated, doing business as Tellt...  Telltale_Games\n",
       "2         1  Daniel Rosenfeld, (born 9 May 1989) also known...            C418\n",
       "3         1  Sadie Sink (born April 16, 2002) is an America...      Sadie_Sink\n",
       "4         1  Charlie Heaton is an English actor and musicia...  Charlie_Heaton"
      ]
     },
     "execution_count": 68,
     "metadata": {},
     "output_type": "execute_result"
    }
   ],
   "source": [
    "df_articles.head()"
   ]
  },
  {
   "cell_type": "markdown",
   "metadata": {},
   "source": [
    "BOW and TFIDF based on sklearn package"
   ]
  },
  {
   "cell_type": "code",
   "execution_count": 69,
   "metadata": {
    "collapsed": true
   },
   "outputs": [],
   "source": [
    "# BOW and TFIDF packages from sklearn\n",
    "from sklearn.feature_extraction.text import CountVectorizer\n",
    "from sklearn.feature_extraction.text import TfidfVectorizer\n",
    "from sklearn.model_selection import train_test_split\n",
    "\n",
    "xtrain, xtest, ytrain, ytest = train_test_split(df_articles['text'], df_articles['decision'], test_size = 0.3, random_state = 10)"
   ]
  },
  {
   "cell_type": "markdown",
   "metadata": {},
   "source": [
    "BOW transformation using 1 word"
   ]
  },
  {
   "cell_type": "code",
   "execution_count": 70,
   "metadata": {
    "collapsed": true
   },
   "outputs": [],
   "source": [
    "count_vector = CountVectorizer(stop_words='english')\n",
    "\n",
    "# Fit and transform train data using BOW vectorizer\n",
    "count_train = count_vector.fit_transform(xtrain)\n",
    "\n",
    "# Transform test data using BOW vectorizer\n",
    "count_test = count_vector.transform(xtest)"
   ]
  },
  {
   "cell_type": "markdown",
   "metadata": {
    "collapsed": true
   },
   "source": [
    "TFIDF transformation using 1 word"
   ]
  },
  {
   "cell_type": "code",
   "execution_count": 71,
   "metadata": {
    "collapsed": true
   },
   "outputs": [],
   "source": [
    "tfidf_vector = TfidfVectorizer(stop_words='english')\n",
    "\n",
    "# Fit and transform train data using tfidf vectorizer\n",
    "tfidf_train = tfidf_vector.fit_transform(xtrain)\n",
    "\n",
    "# Transform test data using tfidf vectorizer\n",
    "tfidf_test = tfidf_vector.transform(xtest)"
   ]
  },
  {
   "cell_type": "markdown",
   "metadata": {
    "collapsed": true
   },
   "source": [
    "#### 5.1.2 Modeling using naive_bayes, Random Forest and Logistic Regression"
   ]
  },
  {
   "cell_type": "markdown",
   "metadata": {},
   "source": [
    "##### - Naive Bayes Model\n",
    "Herein, we compared the model performance using Bag-of-Words and TFIDF data based on naive baysian model. They have the identical the same accuracy, ROC score and F1-score"
   ]
  },
  {
   "cell_type": "code",
   "execution_count": 72,
   "metadata": {
    "collapsed": true
   },
   "outputs": [],
   "source": [
    "from sklearn.naive_bayes import MultinomialNB"
   ]
  },
  {
   "cell_type": "code",
   "execution_count": 73,
   "metadata": {
    "collapsed": false
   },
   "outputs": [
    {
     "name": "stdout",
     "output_type": "stream",
     "text": [
      "Accuracy:      0.8214285714285714\n",
      "Roc_Auc_Score: 0.8214285714285714\n",
      "F1_Score:      0.8275862068965518\n",
      "Confusion Matrix:\n",
      "[[11  3]\n",
      " [ 2 12]]\n"
     ]
    }
   ],
   "source": [
    "# BOW data\n",
    "nb_classifier = MultinomialNB()\n",
    "nb_classifier.fit(count_train, ytrain)\n",
    "\n",
    "nb_pred = nb_classifier.predict(count_test)\n",
    "\n",
    "model_performance(ytest, nb_pred)"
   ]
  },
  {
   "cell_type": "code",
   "execution_count": 74,
   "metadata": {
    "collapsed": false,
    "scrolled": true
   },
   "outputs": [
    {
     "name": "stdout",
     "output_type": "stream",
     "text": [
      "Accuracy:      0.8214285714285714\n",
      "Roc_Auc_Score: 0.8214285714285714\n",
      "F1_Score:      0.8275862068965518\n",
      "Confusion Matrix:\n",
      "[[11  3]\n",
      " [ 2 12]]\n"
     ]
    }
   ],
   "source": [
    "# TFIDF data\n",
    "nb_classifier = MultinomialNB()\n",
    "nb_classifier.fit(tfidf_train, ytrain)\n",
    "\n",
    "nb_pred = nb_classifier.predict(tfidf_test)\n",
    "\n",
    "model_performance(ytest, nb_pred)"
   ]
  },
  {
   "cell_type": "markdown",
   "metadata": {},
   "source": [
    "##### - Random Forest Model\n",
    "\n",
    "For model performance using BOW and TFIDF data, using BOW data performs better. Top 100 words represent the crucial difference between high-profitable topics and low-profitable topics"
   ]
  },
  {
   "cell_type": "code",
   "execution_count": 75,
   "metadata": {
    "collapsed": false
   },
   "outputs": [
    {
     "name": "stdout",
     "output_type": "stream",
     "text": [
      "Accuracy:      0.75\n",
      "Roc_Auc_Score: 0.75\n",
      "F1_Score:      0.7586206896551724\n",
      "Confusion Matrix:\n",
      "[[10  4]\n",
      " [ 3 11]]\n"
     ]
    }
   ],
   "source": [
    "# BOW Data\n",
    "rf = RandomForestClassifier(random_state=1)\n",
    "rf.fit(count_train, ytrain)\n",
    "\n",
    "rf_predict = rf.predict(count_test)\n",
    "\n",
    "model_performance(ytest, rf_predict)"
   ]
  },
  {
   "cell_type": "code",
   "execution_count": 76,
   "metadata": {
    "collapsed": false
   },
   "outputs": [
    {
     "name": "stdout",
     "output_type": "stream",
     "text": [
      "Accuracy:      0.6785714285714286\n",
      "Roc_Auc_Score: 0.6785714285714285\n",
      "F1_Score:      0.689655172413793\n",
      "Confusion Matrix:\n",
      "[[ 9  5]\n",
      " [ 4 10]]\n"
     ]
    }
   ],
   "source": [
    "# TFIDF Data\n",
    "rf = RandomForestClassifier(random_state=1)\n",
    "rf.fit(tfidf_train, ytrain)\n",
    "\n",
    "rf_predict = rf.predict(tfidf_test)\n",
    "\n",
    "model_performance(ytest, rf_predict)"
   ]
  },
  {
   "cell_type": "markdown",
   "metadata": {},
   "source": [
    "Select the most important features using RF. It is indicated that top 100 words out of 10540 words (less than 1%) are sufficient to explain more than 95% variance of the data."
   ]
  },
  {
   "cell_type": "code",
   "execution_count": 77,
   "metadata": {
    "collapsed": false
   },
   "outputs": [
    {
     "data": {
      "text/plain": [
       "<matplotlib.text.Text at 0x191fdfb9048>"
      ]
     },
     "execution_count": 77,
     "metadata": {},
     "output_type": "execute_result"
    },
    {
     "data": {
      "image/png": "[encoded data removed]",
      "text/plain": [
       "<matplotlib.figure.Figure at 0x191fdf63f98>"
      ]
     },
     "metadata": {},
     "output_type": "display_data"
    }
   ],
   "source": [
    "plt.plot(np.cumsum(sorted(rf.feature_importances_, reverse=True))[:200])\n",
    "plt.plot([0,200],[0.95, 0.95], 'r--')\n",
    "plt.annotate('95% of explained variance', xy = (0,0), xytext = (0,0.98))\n",
    "plt.xlabel('Number of important features')\n",
    "plt.ylabel('Percentage of explained variance')"
   ]
  },
  {
   "cell_type": "code",
   "execution_count": 78,
   "metadata": {
    "collapsed": false
   },
   "outputs": [],
   "source": [
    "# Select the top important features\n",
    "top_important_feature = np.argsort(rf.feature_importances_)[::-1][:100]"
   ]
  },
  {
   "cell_type": "code",
   "execution_count": 79,
   "metadata": {
    "collapsed": false
   },
   "outputs": [
    {
     "data": {
      "text/plain": [
       "array(['used', 'numerous', 'characters', 'expressed', 'plans', 'history',\n",
       "       'creative', 'situation', 'new', 'agent', 'individual', 'wanting',\n",
       "       'serve', 'award', 'internet', 'weighted', 'august', 'announced',\n",
       "       'key', 'metacritic', 'area', 'gave', 'super', 'arts', 'common',\n",
       "       'advertising', 'containing', 'write', 'known', 'achievement',\n",
       "       'contains', 'compared', 'sold', 'pst', 'compositions', 'scene',\n",
       "       'waffle', 'broadway', 'september', 'eighth', 'hands', 'created',\n",
       "       'hit', 'twenties', 'film', 'voted', 'times', 'beatles', 'took',\n",
       "       'members', 'reality', '29', 'act', 'refer', 'jr', 'crossover',\n",
       "       'existing', 'losing', 'able', '1998', 'sharp', '2011', 'alonesales',\n",
       "       'fair', 'murder', 'positive', 'playing', 'second', 'homage',\n",
       "       'review', 'est', '1995', 'travers', 'numbers', 'rama', 'movie',\n",
       "       'arrived', 'ladder', 'club', 'abnormalities', 'following', '24',\n",
       "       'played', 'covered', 'catch', 'university', 'dragon', 'york',\n",
       "       'byers', '69', 'michael', '2010', 'reynolds', 'called', 'based',\n",
       "       'simplistic', 'james', 'shares', 'alpha', 'things'], \n",
       "      dtype='<U21')"
      ]
     },
     "execution_count": 79,
     "metadata": {},
     "output_type": "execute_result"
    }
   ],
   "source": [
    "# Show the top important features\n",
    "features_rf = np.array(count_vector.get_feature_names())[top_important_feature]\n",
    "features_rf"
   ]
  },
  {
   "cell_type": "markdown",
   "metadata": {},
   "source": [
    "##### - Logistic Regression Model\n",
    "\n",
    "For model performance using BOW and TFIDF data, using BOW data performs better. Using most important 100 words achieves similar performance with full words."
   ]
  },
  {
   "cell_type": "code",
   "execution_count": 80,
   "metadata": {
    "collapsed": false
   },
   "outputs": [
    {
     "name": "stdout",
     "output_type": "stream",
     "text": [
      "Accuracy:      0.8214285714285714\n",
      "Roc_Auc_Score: 0.8214285714285714\n",
      "F1_Score:      0.8148148148148148\n",
      "Confusion Matrix:\n",
      "[[12  2]\n",
      " [ 3 11]]\n"
     ]
    }
   ],
   "source": [
    "# Prediction using top 100 words\n",
    "\n",
    "lr = LogisticRegression()\n",
    "lr.fit(count_train[:, top_important_feature], ytrain)\n",
    "\n",
    "lr_predict = lr.predict(count_test[:,top_important_feature])\n",
    "\n",
    "model_performance(ytest, lr_predict)"
   ]
  },
  {
   "cell_type": "code",
   "execution_count": 81,
   "metadata": {
    "collapsed": false
   },
   "outputs": [
    {
     "name": "stdout",
     "output_type": "stream",
     "text": [
      "Accuracy:      0.8571428571428571\n",
      "Roc_Auc_Score: 0.8571428571428572\n",
      "F1_Score:      0.8666666666666666\n",
      "Confusion Matrix:\n",
      "[[11  3]\n",
      " [ 1 13]]\n"
     ]
    }
   ],
   "source": [
    "# Prediction using full words\n",
    "\n",
    "lr = LogisticRegression()\n",
    "lr.fit(count_train, ytrain)\n",
    "\n",
    "with open('lr_profitable_article.pickle', 'wb') as f:\n",
    "    pickle.dump(lr, f)\n",
    "    \n",
    "lr_predict = lr.predict(count_test)\n",
    "\n",
    "model_performance(ytest, lr_predict)"
   ]
  },
  {
   "cell_type": "code",
   "execution_count": 82,
   "metadata": {
    "collapsed": false
   },
   "outputs": [
    {
     "name": "stdout",
     "output_type": "stream",
     "text": [
      "Accuracy:      0.8214285714285714\n",
      "Roc_Auc_Score: 0.8214285714285714\n",
      "F1_Score:      0.8148148148148148\n",
      "Confusion Matrix:\n",
      "[[12  2]\n",
      " [ 3 11]]\n"
     ]
    }
   ],
   "source": [
    "# Use Lasso to select importance features\n",
    "\n",
    "lr_lasso = LogisticRegression(penalty='l1', random_state=1)\n",
    "lr_lasso.fit(count_train, ytrain)\n",
    "    \n",
    "lr_lasso_predict = lr_lasso.predict(count_test)\n",
    "\n",
    "model_performance(ytest, lr_lasso_predict)"
   ]
  },
  {
   "cell_type": "code",
   "execution_count": 83,
   "metadata": {
    "collapsed": false
   },
   "outputs": [
    {
     "data": {
      "text/plain": [
       "array(['2018', 'announced', 'based', 'boring', 'busey', 'ceremony', 'city',\n",
       "       'eggo', 'emory', 'garrison', 'gordie', 'greene', 'harbour', 'kate',\n",
       "       'members', 'mike', 'new', 'original', 'people', 'period', 'played',\n",
       "       'reiser', 'rest', 'rosenfeld', 'song', 'stanton', 'stranger',\n",
       "       'super', 'synthwave', 'television', 'things', 'vince'], \n",
       "      dtype='<U21')"
      ]
     },
     "execution_count": 83,
     "metadata": {},
     "output_type": "execute_result"
    }
   ],
   "source": [
    "# Totally 32 non-zero features were selected by Lasso\n",
    "features_lasso = np.array(count_vector.get_feature_names())[np.where(lr_lasso.coef_ != 0)[1]]\n",
    "features_lasso"
   ]
  },
  {
   "cell_type": "code",
   "execution_count": 84,
   "metadata": {
    "collapsed": false
   },
   "outputs": [
    {
     "data": {
      "text/plain": [
       "{'announced', 'based', 'members', 'new', 'played', 'super', 'things'}"
      ]
     },
     "execution_count": 84,
     "metadata": {},
     "output_type": "execute_result"
    }
   ],
   "source": [
    "# Common important features selected by both random forest and lasso\n",
    "set(features_rf).intersection(set(features_lasso))"
   ]
  },
  {
   "cell_type": "markdown",
   "metadata": {},
   "source": [
    "Prediction using TFIDF data"
   ]
  },
  {
   "cell_type": "code",
   "execution_count": 85,
   "metadata": {
    "collapsed": false
   },
   "outputs": [
    {
     "name": "stdout",
     "output_type": "stream",
     "text": [
      "Accuracy:      0.8214285714285714\n",
      "Roc_Auc_Score: 0.8214285714285714\n",
      "F1_Score:      0.8148148148148148\n",
      "Confusion Matrix:\n",
      "[[12  2]\n",
      " [ 3 11]]\n"
     ]
    }
   ],
   "source": [
    "# Logistic regression using TFIDF data\n",
    "lr = LogisticRegression()\n",
    "lr.fit(tfidf_train, ytrain)\n",
    "\n",
    "lr_predict = lr.predict(tfidf_test)\n",
    "\n",
    "model_performance(ytest, lr_predict)"
   ]
  },
  {
   "cell_type": "markdown",
   "metadata": {},
   "source": [
    "#### 5.1.3 Predicting topics to be high-profitable topics\n",
    "\n",
    "We would like to build a prediction system based on logistic model to tell whether the articles (if with our ads) will earn high profits or not for our ad campaign for \"Stranger Things\". Should we put our ad on 'Millie bobby brown'? Of course we do!"
   ]
  },
  {
   "cell_type": "code",
   "execution_count": 86,
   "metadata": {
    "collapsed": true
   },
   "outputs": [],
   "source": [
    "with open('lr_profitable_article.pickle','rb') as f:\n",
    "    lr = pickle.load(f)"
   ]
  },
  {
   "cell_type": "code",
   "execution_count": 87,
   "metadata": {
    "collapsed": false
   },
   "outputs": [
    {
     "data": {
      "text/plain": [
       "0.92875650834407297"
      ]
     },
     "execution_count": 87,
     "metadata": {},
     "output_type": "execute_result"
    }
   ],
   "source": [
    "# Probability that the topic will be high profitable topics\n",
    "lr.predict_proba(count_vector.transform([extract_text('Millie_Bobby_Brown')]))[0][1]"
   ]
  },
  {
   "cell_type": "code",
   "execution_count": 92,
   "metadata": {
    "collapsed": false
   },
   "outputs": [
    {
     "data": {
      "text/plain": [
       "0.99999999999027334"
      ]
     },
     "execution_count": 92,
     "metadata": {},
     "output_type": "execute_result"
    }
   ],
   "source": [
    "# Probability that the topic will be low profitable topics\n",
    "lr.predict_proba(count_vector.transform([extract_text('Netflix')]))[0][1]"
   ]
  },
  {
   "cell_type": "code",
   "execution_count": 93,
   "metadata": {
    "collapsed": false
   },
   "outputs": [
    {
     "data": {
      "text/plain": [
       "3.5820724825128777e-05"
      ]
     },
     "execution_count": 93,
     "metadata": {},
     "output_type": "execute_result"
    }
   ],
   "source": [
    "# Probability that the topic will be low profitable topics\n",
    "lr.predict_proba(count_vector.transform([extract_text('Microsoft')]))[0][1]"
   ]
  },
  {
   "cell_type": "code",
   "execution_count": null,
   "metadata": {
    "collapsed": true
   },
   "outputs": [],
   "source": []
  },
  {
   "cell_type": "markdown",
   "metadata": {},
   "source": [
    "### 5.2 Predict ad profits"
   ]
  },
  {
   "cell_type": "code",
   "execution_count": 89,
   "metadata": {
    "collapsed": true
   },
   "outputs": [],
   "source": [
    "def regression_performance(model, ytest, ypredict):\n",
    "    print(model)\n",
    "    print('='*100)\n",
    "    print('True Sum: {}'.format(ytest.sum()))\n",
    "    print('Predicted Sum: {}'.format(ypredict.sum()))\n",
    "    print('Residual Sum of Square: {}'.format(np.square(ytest - ypredict).sum()))\n",
    "    print('\\n')"
   ]
  },
  {
   "cell_type": "code",
   "execution_count": 90,
   "metadata": {
    "collapsed": false
   },
   "outputs": [
    {
     "name": "stdout",
     "output_type": "stream",
     "text": [
      "Linear Regression\n",
      "====================================================================================================\n",
      "True Sum: 77.74517654617279\n",
      "Predicted Sum: 77.70325236130218\n",
      "Residual Sum of Square: 157.8897164351228\n",
      "\n",
      "\n",
      "Random Forest Regressor\n",
      "====================================================================================================\n",
      "True Sum: 77.74517654617279\n",
      "Predicted Sum: 79.4741015008377\n",
      "Residual Sum of Square: 46.135478475486124\n",
      "\n",
      "\n",
      "KNN Regressor\n",
      "====================================================================================================\n",
      "True Sum: 77.74517654617279\n",
      "Predicted Sum: 70.78252058145742\n",
      "Residual Sum of Square: 98.19983078218394\n",
      "\n",
      "\n"
     ]
    }
   ],
   "source": [
    "# Scale xdata, divide profits by 100\n",
    "scale = StandardScaler()\n",
    "xdata = scale.fit_transform(df_ad_new.drop(['prev','curr','type','n','profit','decision'], axis = 1))\n",
    "ydata = df_ad_new['profit']/100\n",
    "\n",
    "# Split data into train and test set\n",
    "xtrain, xtest, ytrain, ytest = train_test_split(xdata, ydata, test_size = 0.3, random_state = 1)\n",
    "\n",
    "# Fit and predict using linear model\n",
    "from sklearn.linear_model import LinearRegression\n",
    "linear = LinearRegression()\n",
    "linear.fit(xtrain, ytrain)\n",
    "linear_predict = linear.predict(xtest)\n",
    "\n",
    "regression_performance('Linear Regression', ytest, linear_predict)\n",
    "\n",
    "# Fit and predict using random forest\n",
    "from sklearn.ensemble import RandomForestRegressor\n",
    "rf_regressor = RandomForestRegressor(random_state=2)\n",
    "rf_regressor.fit(xtrain,  ytrain)\n",
    "rf_regressor_predict = rf_regressor.predict(xtest)\n",
    "\n",
    "regression_performance('Random Forest Regressor', ytest, rf_regressor_predict)\n",
    "\n",
    "# Fit and predict using KNN\n",
    "from sklearn.neighbors import KNeighborsRegressor\n",
    "knn_regressor = KNeighborsRegressor()\n",
    "knn_regressor.fit(xtrain, ytrain)\n",
    "knn_regressor_predict = knn_regressor.predict(xtest)\n",
    "\n",
    "regression_performance('KNN Regressor', ytest, knn_regressor_predict)\n"
   ]
  },
  {
   "cell_type": "markdown",
   "metadata": {},
   "source": [
    "#### Model selection for ad profits prediction\n",
    "We will choose the best model according to the lowest residual sum of square. Herein, Random Forest Regressor rendered the lowest RSS, and thus is better than linear regression and KNN. It is interesting to see that although linear regression shows closer sum of profits, the individual predicted profits show high deviation from the true profits."
   ]
  },
  {
   "cell_type": "code",
   "execution_count": 91,
   "metadata": {
    "collapsed": false,
    "scrolled": true
   },
   "outputs": [
    {
     "data": {
      "text/plain": [
       "<matplotlib.legend.Legend at 0x1920b6b2f98>"
      ]
     },
     "execution_count": 91,
     "metadata": {},
     "output_type": "execute_result"
    },
    {
     "data": {
      "image/png": "[encoded data removed]",
      "text/plain": [
       "<matplotlib.figure.Figure at 0x1920a166b38>"
      ]
     },
     "metadata": {},
     "output_type": "display_data"
    }
   ],
   "source": [
    "# Plot residual vs. predicted profits for linear regression\n",
    "plt.scatter(linear_predict, linear_predict-ytest, label = 'Linear Regression')\n",
    "plt.scatter(rf_regressor_predict, rf_regressor_predict-ytest, label = 'Random Forest')\n",
    "plt.xlabel('Predicted Profits')\n",
    "plt.ylabel('Residuals')\n",
    "plt.title('Residuals vs. Predicted Profits from Two Models')\n",
    "plt.legend(loc = 'best')"
   ]
  },
  {
   "cell_type": "code",
   "execution_count": null,
   "metadata": {
    "collapsed": true
   },
   "outputs": [],
   "source": []
  }
 ],
 "metadata": {
  "kernelspec": {
   "display_name": "Python 3",
   "language": "python",
   "name": "python3"
  },
  "language_info": {
   "codemirror_mode": {
    "name": "ipython",
    "version": 3
   },
   "file_extension": ".py",
   "mimetype": "text/x-python",
   "name": "python",
   "nbconvert_exporter": "python",
   "pygments_lexer": "ipython3",
   "version": "3.6.0"
  }
 },
 "nbformat": 4,
 "nbformat_minor": 2
}
